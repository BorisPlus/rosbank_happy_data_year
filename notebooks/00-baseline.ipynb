{
 "cells": [
  {
   "cell_type": "code",
   "execution_count": 1,
   "metadata": {},
   "outputs": [],
   "source": [
    "import preamble\n",
    "from tools.tools import *\n",
    "\n",
    "import pprint\n",
    "import feather\n",
    "import json\n",
    "import pandas as pd\n",
    "import numpy as np\n",
    "import re\n",
    "from pathlib import Path\n",
    "from math import sin, cos, sqrt, atan2, radians\n",
    "from tqdm import tqdm\n",
    "from sklearn.neighbors import KNeighborsClassifier\n",
    "from sklearn.metrics import mean_squared_error\n",
    "import lightgbm as lgb\n",
    "from sklearn.model_selection import train_test_split\n",
    "from ipyleaflet import Map, Marker, MarkerCluster, CircleMarker\n",
    "from ipywidgets import Label, Textarea, VBox\n",
    "from ipywidgets.embed import embed_minimal_html"
   ]
  },
  {
   "cell_type": "code",
   "execution_count": 2,
   "metadata": {},
   "outputs": [],
   "source": [
    "def rmse(y_true, y_pred):\n",
    "    return sqrt(mean_squared_error(y_true, y_pred))"
   ]
  },
  {
   "cell_type": "code",
   "execution_count": 3,
   "metadata": {},
   "outputs": [],
   "source": [
    "features = dict()"
   ]
  },
  {
   "cell_type": "code",
   "execution_count": 4,
   "metadata": {},
   "outputs": [],
   "source": [
    "train = pd.read_csv('../data/train.csv', index_col=0)\n",
    "test = pd.read_csv('../data/test.csv', index_col=0)"
   ]
  },
  {
   "cell_type": "code",
   "execution_count": 5,
   "metadata": {},
   "outputs": [],
   "source": [
    "train['isTrain'] = True\n",
    "test['isTrain'] = False"
   ]
  },
  {
   "cell_type": "code",
   "execution_count": 6,
   "metadata": {},
   "outputs": [
    {
     "name": "stdout",
     "output_type": "stream",
     "text": [
      "В выбранном датафрейме 8 столбцов.\n",
      "Всего 3 столбцов с неполными данными.\n"
     ]
    },
    {
     "data": {
      "text/html": [
       "<div>\n",
       "<style scoped>\n",
       "    .dataframe tbody tr th:only-of-type {\n",
       "        vertical-align: middle;\n",
       "    }\n",
       "\n",
       "    .dataframe tbody tr th {\n",
       "        vertical-align: top;\n",
       "    }\n",
       "\n",
       "    .dataframe thead th {\n",
       "        text-align: right;\n",
       "    }\n",
       "</style>\n",
       "<table border=\"1\" class=\"dataframe\">\n",
       "  <thead>\n",
       "    <tr style=\"text-align: right;\">\n",
       "      <th></th>\n",
       "      <th>Missing Values</th>\n",
       "      <th>% of Total Values</th>\n",
       "    </tr>\n",
       "  </thead>\n",
       "  <tbody>\n",
       "    <tr>\n",
       "      <th>address_rus</th>\n",
       "      <td>304</td>\n",
       "      <td>4.855454</td>\n",
       "    </tr>\n",
       "    <tr>\n",
       "      <th>lat</th>\n",
       "      <td>304</td>\n",
       "      <td>4.855454</td>\n",
       "    </tr>\n",
       "    <tr>\n",
       "      <th>long</th>\n",
       "      <td>304</td>\n",
       "      <td>4.855454</td>\n",
       "    </tr>\n",
       "  </tbody>\n",
       "</table>\n",
       "</div>"
      ],
      "text/plain": [
       "             Missing Values  % of Total Values\n",
       "address_rus             304           4.855454\n",
       "lat                     304           4.855454\n",
       "long                    304           4.855454"
      ]
     },
     "execution_count": 6,
     "metadata": {},
     "output_type": "execute_result"
    }
   ],
   "source": [
    " missing_values_table(train)"
   ]
  },
  {
   "cell_type": "code",
   "execution_count": 7,
   "metadata": {},
   "outputs": [
    {
     "name": "stdout",
     "output_type": "stream",
     "text": [
      "В выбранном датафрейме 7 столбцов.\n",
      "Всего 3 столбцов с неполными данными.\n"
     ]
    },
    {
     "data": {
      "text/html": [
       "<div>\n",
       "<style scoped>\n",
       "    .dataframe tbody tr th:only-of-type {\n",
       "        vertical-align: middle;\n",
       "    }\n",
       "\n",
       "    .dataframe tbody tr th {\n",
       "        vertical-align: top;\n",
       "    }\n",
       "\n",
       "    .dataframe thead th {\n",
       "        text-align: right;\n",
       "    }\n",
       "</style>\n",
       "<table border=\"1\" class=\"dataframe\">\n",
       "  <thead>\n",
       "    <tr style=\"text-align: right;\">\n",
       "      <th></th>\n",
       "      <th>Missing Values</th>\n",
       "      <th>% of Total Values</th>\n",
       "    </tr>\n",
       "  </thead>\n",
       "  <tbody>\n",
       "    <tr>\n",
       "      <th>address_rus</th>\n",
       "      <td>116</td>\n",
       "      <td>4.632588</td>\n",
       "    </tr>\n",
       "    <tr>\n",
       "      <th>lat</th>\n",
       "      <td>116</td>\n",
       "      <td>4.632588</td>\n",
       "    </tr>\n",
       "    <tr>\n",
       "      <th>long</th>\n",
       "      <td>116</td>\n",
       "      <td>4.632588</td>\n",
       "    </tr>\n",
       "  </tbody>\n",
       "</table>\n",
       "</div>"
      ],
      "text/plain": [
       "             Missing Values  % of Total Values\n",
       "address_rus             116           4.632588\n",
       "lat                     116           4.632588\n",
       "long                    116           4.632588"
      ]
     },
     "execution_count": 7,
     "metadata": {},
     "output_type": "execute_result"
    }
   ],
   "source": [
    "missing_values_table(test)"
   ]
  },
  {
   "cell_type": "code",
   "execution_count": 8,
   "metadata": {},
   "outputs": [
    {
     "data": {
      "text/plain": [
       "(<Figure size 1296x432 with 1 Axes>,\n",
       " <matplotlib.axes._subplots.AxesSubplot at 0x7fd3c4697518>)"
      ]
     },
     "execution_count": 8,
     "metadata": {},
     "output_type": "execute_result"
    },
    {
     "data": {
      "image/png": "[encoded data removed]",
      "text/plain": [
       "<Figure size 1296x432 with 1 Axes>"
      ]
     },
     "metadata": {
      "needs_background": "light"
     },
     "output_type": "display_data"
    }
   ],
   "source": [
    "missing_values_plot(train, test)"
   ]
  },
  {
   "cell_type": "code",
   "execution_count": 9,
   "metadata": {},
   "outputs": [],
   "source": [
    "X = train.append(test, sort=False)"
   ]
  },
  {
   "cell_type": "code",
   "execution_count": 10,
   "metadata": {},
   "outputs": [],
   "source": [
    "X.reset_index(drop=True, inplace=True)"
   ]
  },
  {
   "cell_type": "code",
   "execution_count": 11,
   "metadata": {},
   "outputs": [
    {
     "data": {
      "text/html": [
       "<div>\n",
       "<style scoped>\n",
       "    .dataframe tbody tr th:only-of-type {\n",
       "        vertical-align: middle;\n",
       "    }\n",
       "\n",
       "    .dataframe tbody tr th {\n",
       "        vertical-align: top;\n",
       "    }\n",
       "\n",
       "    .dataframe thead th {\n",
       "        text-align: right;\n",
       "    }\n",
       "</style>\n",
       "<table border=\"1\" class=\"dataframe\">\n",
       "  <thead>\n",
       "    <tr style=\"text-align: right;\">\n",
       "      <th></th>\n",
       "      <th>count</th>\n",
       "      <th>mean</th>\n",
       "      <th>std</th>\n",
       "      <th>min</th>\n",
       "      <th>25%</th>\n",
       "      <th>50%</th>\n",
       "      <th>75%</th>\n",
       "      <th>max</th>\n",
       "    </tr>\n",
       "  </thead>\n",
       "  <tbody>\n",
       "    <tr>\n",
       "      <th>id</th>\n",
       "      <td>8765.0</td>\n",
       "      <td>4404.586366</td>\n",
       "      <td>2542.532548</td>\n",
       "      <td>1.000000</td>\n",
       "      <td>2207.000000</td>\n",
       "      <td>4403.000000</td>\n",
       "      <td>6603.000000</td>\n",
       "      <td>8811.000000</td>\n",
       "    </tr>\n",
       "    <tr>\n",
       "      <th>atm_group</th>\n",
       "      <td>8765.0</td>\n",
       "      <td>4407.008842</td>\n",
       "      <td>2427.934099</td>\n",
       "      <td>32.000000</td>\n",
       "      <td>1942.000000</td>\n",
       "      <td>5478.000000</td>\n",
       "      <td>5478.000000</td>\n",
       "      <td>8083.000000</td>\n",
       "    </tr>\n",
       "    <tr>\n",
       "      <th>lat</th>\n",
       "      <td>8345.0</td>\n",
       "      <td>54.138304</td>\n",
       "      <td>4.329293</td>\n",
       "      <td>42.057080</td>\n",
       "      <td>52.243997</td>\n",
       "      <td>55.060936</td>\n",
       "      <td>56.116673</td>\n",
       "      <td>69.495093</td>\n",
       "    </tr>\n",
       "    <tr>\n",
       "      <th>long</th>\n",
       "      <td>8345.0</td>\n",
       "      <td>63.500873</td>\n",
       "      <td>32.787366</td>\n",
       "      <td>19.941530</td>\n",
       "      <td>37.851107</td>\n",
       "      <td>49.071694</td>\n",
       "      <td>84.950218</td>\n",
       "      <td>173.706490</td>\n",
       "    </tr>\n",
       "    <tr>\n",
       "      <th>target</th>\n",
       "      <td>6261.0</td>\n",
       "      <td>0.000715</td>\n",
       "      <td>0.085852</td>\n",
       "      <td>-0.145001</td>\n",
       "      <td>-0.061176</td>\n",
       "      <td>-0.015573</td>\n",
       "      <td>0.040149</td>\n",
       "      <td>0.218608</td>\n",
       "    </tr>\n",
       "  </tbody>\n",
       "</table>\n",
       "</div>"
      ],
      "text/plain": [
       "            count         mean          std        min          25%  \\\n",
       "id         8765.0  4404.586366  2542.532548   1.000000  2207.000000   \n",
       "atm_group  8765.0  4407.008842  2427.934099  32.000000  1942.000000   \n",
       "lat        8345.0    54.138304     4.329293  42.057080    52.243997   \n",
       "long       8345.0    63.500873    32.787366  19.941530    37.851107   \n",
       "target     6261.0     0.000715     0.085852  -0.145001    -0.061176   \n",
       "\n",
       "                   50%          75%          max  \n",
       "id         4403.000000  6603.000000  8811.000000  \n",
       "atm_group  5478.000000  5478.000000  8083.000000  \n",
       "lat          55.060936    56.116673    69.495093  \n",
       "long         49.071694    84.950218   173.706490  \n",
       "target       -0.015573     0.040149     0.218608  "
      ]
     },
     "execution_count": 11,
     "metadata": {},
     "output_type": "execute_result"
    }
   ],
   "source": [
    "X.describe().T"
   ]
  },
  {
   "cell_type": "code",
   "execution_count": 12,
   "metadata": {},
   "outputs": [
    {
     "data": {
      "text/html": [
       "<div>\n",
       "<style scoped>\n",
       "    .dataframe tbody tr th:only-of-type {\n",
       "        vertical-align: middle;\n",
       "    }\n",
       "\n",
       "    .dataframe tbody tr th {\n",
       "        vertical-align: top;\n",
       "    }\n",
       "\n",
       "    .dataframe thead th {\n",
       "        text-align: right;\n",
       "    }\n",
       "</style>\n",
       "<table border=\"1\" class=\"dataframe\">\n",
       "  <thead>\n",
       "    <tr style=\"text-align: right;\">\n",
       "      <th></th>\n",
       "      <th>count</th>\n",
       "      <th>unique</th>\n",
       "      <th>top</th>\n",
       "      <th>freq</th>\n",
       "    </tr>\n",
       "  </thead>\n",
       "  <tbody>\n",
       "    <tr>\n",
       "      <th>address</th>\n",
       "      <td>8765</td>\n",
       "      <td>7481</td>\n",
       "      <td>HOROSHEVSKOE SH,V38       MOSKVA</td>\n",
       "      <td>7</td>\n",
       "    </tr>\n",
       "    <tr>\n",
       "      <th>address_rus</th>\n",
       "      <td>8345</td>\n",
       "      <td>6147</td>\n",
       "      <td>квартал В-13, городской округ Волгодонск, Рост...</td>\n",
       "      <td>10</td>\n",
       "    </tr>\n",
       "  </tbody>\n",
       "</table>\n",
       "</div>"
      ],
      "text/plain": [
       "            count unique                                                top  \\\n",
       "address      8765   7481             HOROSHEVSKOE SH,V38       MOSKVA         \n",
       "address_rus  8345   6147  квартал В-13, городской округ Волгодонск, Рост...   \n",
       "\n",
       "            freq  \n",
       "address        7  \n",
       "address_rus   10  "
      ]
     },
     "execution_count": 12,
     "metadata": {},
     "output_type": "execute_result"
    }
   ],
   "source": [
    "X.describe(include='object').T"
   ]
  },
  {
   "cell_type": "markdown",
   "metadata": {},
   "source": [
    "Всего 7 идентификаторов банков"
   ]
  },
  {
   "cell_type": "code",
   "execution_count": 13,
   "metadata": {},
   "outputs": [
    {
     "name": "stdout",
     "output_type": "stream",
     "text": [
      "В выбранном датафрейме 8 столбцов.\n",
      "Всего 4 столбцов с неполными данными.\n"
     ]
    },
    {
     "data": {
      "text/html": [
       "<div>\n",
       "<style scoped>\n",
       "    .dataframe tbody tr th:only-of-type {\n",
       "        vertical-align: middle;\n",
       "    }\n",
       "\n",
       "    .dataframe tbody tr th {\n",
       "        vertical-align: top;\n",
       "    }\n",
       "\n",
       "    .dataframe thead th {\n",
       "        text-align: right;\n",
       "    }\n",
       "</style>\n",
       "<table border=\"1\" class=\"dataframe\">\n",
       "  <thead>\n",
       "    <tr style=\"text-align: right;\">\n",
       "      <th></th>\n",
       "      <th>Missing Values</th>\n",
       "      <th>% of Total Values</th>\n",
       "    </tr>\n",
       "  </thead>\n",
       "  <tbody>\n",
       "    <tr>\n",
       "      <th>target</th>\n",
       "      <td>2504</td>\n",
       "      <td>28.568169</td>\n",
       "    </tr>\n",
       "    <tr>\n",
       "      <th>address_rus</th>\n",
       "      <td>420</td>\n",
       "      <td>4.791786</td>\n",
       "    </tr>\n",
       "    <tr>\n",
       "      <th>lat</th>\n",
       "      <td>420</td>\n",
       "      <td>4.791786</td>\n",
       "    </tr>\n",
       "    <tr>\n",
       "      <th>long</th>\n",
       "      <td>420</td>\n",
       "      <td>4.791786</td>\n",
       "    </tr>\n",
       "  </tbody>\n",
       "</table>\n",
       "</div>"
      ],
      "text/plain": [
       "             Missing Values  % of Total Values\n",
       "target                 2504          28.568169\n",
       "address_rus             420           4.791786\n",
       "lat                     420           4.791786\n",
       "long                    420           4.791786"
      ]
     },
     "execution_count": 13,
     "metadata": {},
     "output_type": "execute_result"
    }
   ],
   "source": [
    "missing_values_table(X)"
   ]
  },
  {
   "cell_type": "code",
   "execution_count": 14,
   "metadata": {},
   "outputs": [
    {
     "data": {
      "text/plain": [
       "5478.0    3729\n",
       "1942.0    1646\n",
       "8083.0    1454\n",
       "496.5      863\n",
       "3185.5     826\n",
       "1022.0     185\n",
       "32.0        62\n",
       "Name: atm_group, dtype: int64"
      ]
     },
     "execution_count": 14,
     "metadata": {},
     "output_type": "execute_result"
    }
   ],
   "source": [
    "X.atm_group.value_counts()"
   ]
  },
  {
   "cell_type": "code",
   "execution_count": 15,
   "metadata": {},
   "outputs": [
    {
     "data": {
      "text/plain": [
       "5478.0    2662\n",
       "1942.0    1160\n",
       "8083.0    1050\n",
       "496.5      616\n",
       "3185.5     594\n",
       "1022.0     136\n",
       "32.0        43\n",
       "Name: atm_group, dtype: int64"
      ]
     },
     "execution_count": 15,
     "metadata": {},
     "output_type": "execute_result"
    }
   ],
   "source": [
    "train.atm_group.value_counts()"
   ]
  },
  {
   "cell_type": "code",
   "execution_count": 16,
   "metadata": {},
   "outputs": [
    {
     "data": {
      "text/plain": [
       "5478.0    1067\n",
       "1942.0     486\n",
       "8083.0     404\n",
       "496.5      247\n",
       "3185.5     232\n",
       "1022.0      49\n",
       "32.0        19\n",
       "Name: atm_group, dtype: int64"
      ]
     },
     "execution_count": 16,
     "metadata": {},
     "output_type": "execute_result"
    }
   ],
   "source": [
    "test.atm_group.value_counts()"
   ]
  },
  {
   "cell_type": "markdown",
   "metadata": {},
   "source": [
    "Целевая переменная (индекс популярности геолокации, в которой находится банкомат)"
   ]
  },
  {
   "cell_type": "code",
   "execution_count": 17,
   "metadata": {},
   "outputs": [
    {
     "data": {
      "image/png": "[encoded data removed]",
      "text/plain": [
       "<Figure size 1152x576 with 1 Axes>"
      ]
     },
     "metadata": {
      "needs_background": "light"
     },
     "output_type": "display_data"
    }
   ],
   "source": [
    "fig, ax = plt.subplots(1, 1, figsize=(16, 8))\n",
    "\n",
    "for i, s in enumerate(train.atm_group.unique()):\n",
    "    tmp = train[train.atm_group == s]\n",
    "    ax.scatter(tmp.index, tmp.target,label=s)\n",
    "\n",
    "ax.set(xlabel='index in train',\n",
    "       ylabel='target',\n",
    "       title='Индекс популярности геолокации')\n",
    "\n",
    "ax.legend(loc=0)\n",
    "fig.show()"
   ]
  },
  {
   "cell_type": "markdown",
   "metadata": {},
   "source": [
    "Не заполнены значения широты, долготы и адреса для 420 банкоматов "
   ]
  },
  {
   "cell_type": "code",
   "execution_count": 18,
   "metadata": {},
   "outputs": [
    {
     "data": {
      "text/plain": [
       "(420, 8)"
      ]
     },
     "execution_count": 18,
     "metadata": {},
     "output_type": "execute_result"
    }
   ],
   "source": [
    "unknown = X[X['lat'].isnull() & X['long'].isnull() & X['address_rus'].isnull()]\n",
    "unknown.shape"
   ]
  },
  {
   "cell_type": "code",
   "execution_count": 19,
   "metadata": {
    "scrolled": false
   },
   "outputs": [
    {
     "data": {
      "image/png": "[encoded data removed]",
      "text/plain": [
       "<Figure size 1152x576 with 1 Axes>"
      ]
     },
     "metadata": {
      "needs_background": "light"
     },
     "output_type": "display_data"
    }
   ],
   "source": [
    "fig, ax = plt.subplots(1, 1, figsize=(16, 8))\n",
    "\n",
    "for i, s in enumerate(unknown.atm_group.unique()):\n",
    "    tmp = unknown[unknown.atm_group == s]\n",
    "    ax.scatter(tmp.index, tmp.target,label=s)\n",
    "\n",
    "ax.set(xlabel='index in train',\n",
    "       ylabel='target',\n",
    "       title='Индекс популярности геолокации (не указаны долгота и широта)')\n",
    "\n",
    "ax.legend(loc=0)\n",
    "fig.show()"
   ]
  },
  {
   "cell_type": "markdown",
   "metadata": {},
   "source": [
    "Самые \"плохие\", \"хорошие\" и средние банкоматы. Цветом обозначены различные `atm_group`."
   ]
  },
  {
   "cell_type": "code",
   "execution_count": 20,
   "metadata": {},
   "outputs": [
    {
     "name": "stderr",
     "output_type": "stream",
     "text": [
      "7it [00:03,  2.18it/s]\n"
     ]
    }
   ],
   "source": [
    "m = Map(center=[X.lat.mean(), X.long.mean()], zoom=3)\n",
    "\n",
    "atm_colors = ['cyan', 'skyblue', 'yellow', 'orange', 'tan', 'lime', 'tomato']\n",
    "# num = X.shape[0]\n",
    "num = 10\n",
    "\n",
    "for a, c in tqdm(zip(list(X.atm_group.value_counts().index), atm_colors)):\n",
    "    green = (\n",
    "        (X['target'] >= X.describe()['target']\n",
    "         ['75%']) & (X['atm_group'] == a)\n",
    "    )\n",
    "    for loc in X[['lat', 'long']][green].dropna().iloc[:num, :].values:\n",
    "        m += CircleMarker(location=list(loc), color=\"green\", fill_color=c,\n",
    "                          opacity=1, fill_opacity=0.8, radius=6, weight=2)\n",
    "\n",
    "    blue = (\n",
    "        (X['target'] < X.describe()['target']['75%'])\n",
    "        & (X['target'] > X.describe()['target']['25%'])\n",
    "        & (X['atm_group'] == a)\n",
    "    )\n",
    "    for loc in X[['lat', 'long']][blue].dropna().iloc[:num, :].values:\n",
    "        m += CircleMarker(location=list(loc), color=\"blue\", fill_color=c,\n",
    "                          opacity=1, fill_opacity=0.8, radius=6, weight=2)\n",
    "\n",
    "    red = (\n",
    "        (X['target'] <= X.describe()['target']\n",
    "         ['25%']) & (X['atm_group'] == a)\n",
    "    )\n",
    "    for loc in X[['lat', 'long']][red].dropna().iloc[:num, :].values:\n",
    "        m += CircleMarker(location=list(loc), color=\"red\", fill_color=c,\n",
    "                          opacity=1, fill_opacity=0.8, radius=6, weight=2)\n",
    "    \n",
    "    black = X['target'].isna()\n",
    "    for loc in X[['lat', 'long']][black].dropna().iloc[:num, :].values:\n",
    "        m += CircleMarker(location=list(loc), color=\"gray\", fill_color=c,\n",
    "                          opacity=0.4, fill_opacity=0.4, radius=6, weight=2)\n",
    "\n",
    "text = Textarea(layout={'width': '95%', 'height': '95%'})\n",
    "box = VBox([text], layout={'width': '800px', 'height': '300px'})\n",
    "\n",
    "def handle_interaction(**kwargs):\n",
    "    if kwargs.get('type') == 'click':\n",
    "        lat, long = kwargs.get('coordinates')\n",
    "        s = X[(X['lat'] == lat) & (X['long'] == long)]\n",
    "        text.value = pprint.pformat(s.to_dict(), width=250)\n",
    "\n",
    "m.on_interaction(handle_interaction)\n",
    "embed_minimal_html('../workspace/map.html', views=[m], title='Widgets export')"
   ]
  },
  {
   "cell_type": "code",
   "execution_count": 21,
   "metadata": {},
   "outputs": [
    {
     "data": {
      "application/vnd.jupyter.widget-view+json": {
       "model_id": "aa9b098a0c2b4c9ea5a6a50d23f5a52b",
       "version_major": 2,
       "version_minor": 0
      },
      "text/plain": [
       "Map(basemap={'url': 'https://{s}.tile.openstreetmap.org/{z}/{x}/{y}.png', 'max_zoom': 19, 'attribution': 'Map …"
      ]
     },
     "metadata": {},
     "output_type": "display_data"
    }
   ],
   "source": [
    "m"
   ]
  },
  {
   "cell_type": "code",
   "execution_count": 22,
   "metadata": {},
   "outputs": [
    {
     "data": {
      "application/vnd.jupyter.widget-view+json": {
       "model_id": "9eb75b71dd3845fa906fb6679e8a3578",
       "version_major": 2,
       "version_minor": 0
      },
      "text/plain": [
       "VBox(children=(Textarea(value='', layout=Layout(height='95%', width='95%')),), layout=Layout(height='300px', w…"
      ]
     },
     "metadata": {},
     "output_type": "display_data"
    }
   ],
   "source": [
    "display(box)"
   ]
  },
  {
   "cell_type": "markdown",
   "metadata": {},
   "source": [
    "Партнеры РОСБАНКА:\n",
    "\n",
    "- Альфа-Банк\n",
    "- Райффайзенбанк\n",
    "- ВТБ\n",
    "- Россельхозбанк\n",
    "- УРАЛСИБ БАНК\n",
    "- Газпромбанк\n",
    "- АК Барс\n",
    "\n",
    "Похоже, что `atm_group`:\n",
    "\n",
    "- `5478.0` (3729) ВТБ\n",
    "- `1942.0` (1646) Альфа-Банк\n",
    "- `8083.0` (1454) РОСБАНК\n",
    "- `496.5` (863) Россельхозбанк\n",
    "- `3185.5` (826) Газпромбанк\n",
    "- `1022.0` (185) АК Барс\n",
    "- `32.0` (62) УРАЛСИБ БАНК"
   ]
  },
  {
   "cell_type": "markdown",
   "metadata": {},
   "source": [
    "### Подсказки от организаторов\n",
    "\n",
    "    Александр Мамаев\n",
    "    Все ответы одним постом:\n",
    "    1.  Все банкоматы из одного временного интервала, находились в одной геопозиции\n",
    "        на протяжении всего времени сбора исходных данных необходимых для расчета\n",
    "        таргета.\n",
    "    2.  В системах банка адрес банкомата хранится в виде поля address. Поля\n",
    "        address_rus, lat, long - восстанавливались на основе поля address. Для части\n",
    "        банкоматов адрес и местоположение с точностью до дома установить не удалось.\n",
    "        Но если взять поисковик на букву 'Г' (или любой другой до  'Я' включительно)\n",
    "        и ввести в него значения поля address можно получить представление о той\n",
    "        технологии с помощью которой поля заполнялись.  Облегчить процесс\n",
    "        представления может помочь  \"import selenium\".\n",
    "    3.  Id формировался на основе atm_group и уникального внутри каждой группы id\n",
    "        банкомата. X.sort_values('id') даст Вам понимание его структуры. Самыми\n",
    "        высокими индексами популярности обладает  группа банкоматов \"Росбанка\".\n",
    "        Остальные группы - банкоматы банков партнёров.\n",
    "    4.  Таргет - функция от объективных показателей связанных с количеством операций\n",
    "        совершаемых на устройстве в единицу времени.\n",
    "    5.  PSI таргета между train/test/private во всех попарных комбинациях меньше\n",
    "        0.05. \n",
    "    6.  Статистические тесты Манна-Уитни о равенстве средних не отвергают нулевые\n",
    "        гипотезы для всех попарных комбинаций  train/test/private.\n",
    "    7.  Таргет обрезан сверху для удаления из выборки банкоматов, чья популярность не\n",
    "        объясняется геолокацией банкомата.  \n",
    "    8.  Разделение train/test/private. Если посмотреть на индексы популярности\n",
    "        банкоматов стоящих по одному адресу, то можно увидеть, что они очень близки.\n",
    "        Пересечение множетсв адресов в private  и traine привело бы к лику.  Можно\n",
    "        конечно было бы сгруппировать все банкоматы стоящие по одному адресу в один\n",
    "        объект обучающей выборки и уйти от проблемы.  Ничто не мешает Вам и сейчас\n",
    "        поступить подобным образом, после некоторых преобразований на targete.\n",
    "    9.  Визуализация карт. https://pypi.org/project/folium/\n",
    "    10. По поводу точности определения адресов.  Я думаю масштаб проблемы несколько\n",
    "        преувеличен. Если воспользоваться примером кода по ссылке, случайно\n",
    "        найденным мной в интернете, и дописать к нему еще несколько эвристик, можно\n",
    "        значительно повысить точность определения адресов.\n",
    "        https://github.com/aamamaev/machine-learning/tree/master/parsing\n",
    "    11. По поводу адресов на латинице.  Для банкоматов банков партнёров есть только\n",
    "        латынь, содержащаяся в транзакционных данных.  Адреса на латыни никто\n",
    "        специально не обрезал.  Если не хочется восстанавливать адреса, можно\n",
    "        заняться написанием эффективного парсера или генерацией  оригинальных\n",
    "        геопризнаков. Номинации в контесте на любой вкус."
   ]
  },
  {
   "cell_type": "markdown",
   "metadata": {},
   "source": [
    "---"
   ]
  },
  {
   "cell_type": "markdown",
   "metadata": {},
   "source": [
    "### Преобразуем `atm_group` one_hot_encoding"
   ]
  },
  {
   "cell_type": "code",
   "execution_count": 23,
   "metadata": {},
   "outputs": [],
   "source": [
    "features['atm_group_dummies'] = (\n",
    "    pd.get_dummies(\n",
    "        X[['id', 'atm_group']],\n",
    "        columns=['atm_group']\n",
    "    )\n",
    ")"
   ]
  },
  {
   "cell_type": "markdown",
   "metadata": {},
   "source": [
    "### Количество банкоматов стоящих по одному адресу"
   ]
  },
  {
   "cell_type": "code",
   "execution_count": 24,
   "metadata": {},
   "outputs": [],
   "source": [
    "feature_address_ru_count = (\n",
    "    X.merge(\n",
    "        (\n",
    "            X.groupby('address_rus')\n",
    "            .size()\n",
    "            .to_frame('address_ru_count')\n",
    "            .reset_index()\n",
    "        ),\n",
    "        on='address_rus',\n",
    "        how='left',\n",
    "        validate='many_to_one'\n",
    "    )\n",
    "    .loc[:, ['id', 'address_ru_count']]\n",
    "    .fillna(-1)\n",
    ")\n",
    "\n",
    "features['address_ru_count'] = feature_address_ru_count"
   ]
  },
  {
   "cell_type": "code",
   "execution_count": 25,
   "metadata": {},
   "outputs": [
    {
     "data": {
      "text/html": [
       "<div>\n",
       "<style scoped>\n",
       "    .dataframe tbody tr th:only-of-type {\n",
       "        vertical-align: middle;\n",
       "    }\n",
       "\n",
       "    .dataframe tbody tr th {\n",
       "        vertical-align: top;\n",
       "    }\n",
       "\n",
       "    .dataframe thead th {\n",
       "        text-align: right;\n",
       "    }\n",
       "</style>\n",
       "<table border=\"1\" class=\"dataframe\">\n",
       "  <thead>\n",
       "    <tr style=\"text-align: right;\">\n",
       "      <th></th>\n",
       "      <th>id</th>\n",
       "      <th>address_ru_count</th>\n",
       "    </tr>\n",
       "  </thead>\n",
       "  <tbody>\n",
       "    <tr>\n",
       "      <th>count</th>\n",
       "      <td>8765.000000</td>\n",
       "      <td>8765.000000</td>\n",
       "    </tr>\n",
       "    <tr>\n",
       "      <th>mean</th>\n",
       "      <td>4404.586366</td>\n",
       "      <td>1.673132</td>\n",
       "    </tr>\n",
       "    <tr>\n",
       "      <th>std</th>\n",
       "      <td>2542.532548</td>\n",
       "      <td>1.307586</td>\n",
       "    </tr>\n",
       "    <tr>\n",
       "      <th>min</th>\n",
       "      <td>1.000000</td>\n",
       "      <td>-1.000000</td>\n",
       "    </tr>\n",
       "    <tr>\n",
       "      <th>25%</th>\n",
       "      <td>2207.000000</td>\n",
       "      <td>1.000000</td>\n",
       "    </tr>\n",
       "    <tr>\n",
       "      <th>50%</th>\n",
       "      <td>4403.000000</td>\n",
       "      <td>1.000000</td>\n",
       "    </tr>\n",
       "    <tr>\n",
       "      <th>75%</th>\n",
       "      <td>6603.000000</td>\n",
       "      <td>2.000000</td>\n",
       "    </tr>\n",
       "    <tr>\n",
       "      <th>max</th>\n",
       "      <td>8811.000000</td>\n",
       "      <td>10.000000</td>\n",
       "    </tr>\n",
       "  </tbody>\n",
       "</table>\n",
       "</div>"
      ],
      "text/plain": [
       "                id  address_ru_count\n",
       "count  8765.000000       8765.000000\n",
       "mean   4404.586366          1.673132\n",
       "std    2542.532548          1.307586\n",
       "min       1.000000         -1.000000\n",
       "25%    2207.000000          1.000000\n",
       "50%    4403.000000          1.000000\n",
       "75%    6603.000000          2.000000\n",
       "max    8811.000000         10.000000"
      ]
     },
     "execution_count": 25,
     "metadata": {},
     "output_type": "execute_result"
    }
   ],
   "source": [
    "feature_address_ru_count.describe()"
   ]
  },
  {
   "cell_type": "code",
   "execution_count": 26,
   "metadata": {},
   "outputs": [],
   "source": [
    "# counts = X.groupby('address_rus')['id'].count().reset_index().rename(columns={'id':'count_in_address_ru'})\n",
    "# X = pd.merge(X, counts, how='left', on='address_rus')"
   ]
  },
  {
   "cell_type": "markdown",
   "metadata": {},
   "source": [
    "### Количество банкоматов стоящих по одному адресу (en)"
   ]
  },
  {
   "cell_type": "code",
   "execution_count": 27,
   "metadata": {},
   "outputs": [],
   "source": [
    "feature_address_en_count = (\n",
    "    X.merge(\n",
    "        (\n",
    "            X.groupby('address')\n",
    "            .size()\n",
    "            .to_frame('address_en_count')\n",
    "            .reset_index()\n",
    "        ),\n",
    "        on='address',\n",
    "        how='left',\n",
    "        validate='many_to_one'\n",
    "    )\n",
    "    .loc[:, ['id', 'address_en_count']]\n",
    "    .fillna(-1)\n",
    ")\n",
    "\n",
    "features['address_en_count'] = feature_address_en_count"
   ]
  },
  {
   "cell_type": "code",
   "execution_count": 28,
   "metadata": {},
   "outputs": [
    {
     "data": {
      "text/html": [
       "<div>\n",
       "<style scoped>\n",
       "    .dataframe tbody tr th:only-of-type {\n",
       "        vertical-align: middle;\n",
       "    }\n",
       "\n",
       "    .dataframe tbody tr th {\n",
       "        vertical-align: top;\n",
       "    }\n",
       "\n",
       "    .dataframe thead th {\n",
       "        text-align: right;\n",
       "    }\n",
       "</style>\n",
       "<table border=\"1\" class=\"dataframe\">\n",
       "  <thead>\n",
       "    <tr style=\"text-align: right;\">\n",
       "      <th></th>\n",
       "      <th>id</th>\n",
       "      <th>address_en_count</th>\n",
       "    </tr>\n",
       "  </thead>\n",
       "  <tbody>\n",
       "    <tr>\n",
       "      <th>count</th>\n",
       "      <td>8765.000000</td>\n",
       "      <td>8765.000000</td>\n",
       "    </tr>\n",
       "    <tr>\n",
       "      <th>mean</th>\n",
       "      <td>4404.586366</td>\n",
       "      <td>1.449971</td>\n",
       "    </tr>\n",
       "    <tr>\n",
       "      <th>std</th>\n",
       "      <td>2542.532548</td>\n",
       "      <td>0.935220</td>\n",
       "    </tr>\n",
       "    <tr>\n",
       "      <th>min</th>\n",
       "      <td>1.000000</td>\n",
       "      <td>1.000000</td>\n",
       "    </tr>\n",
       "    <tr>\n",
       "      <th>25%</th>\n",
       "      <td>2207.000000</td>\n",
       "      <td>1.000000</td>\n",
       "    </tr>\n",
       "    <tr>\n",
       "      <th>50%</th>\n",
       "      <td>4403.000000</td>\n",
       "      <td>1.000000</td>\n",
       "    </tr>\n",
       "    <tr>\n",
       "      <th>75%</th>\n",
       "      <td>6603.000000</td>\n",
       "      <td>1.000000</td>\n",
       "    </tr>\n",
       "    <tr>\n",
       "      <th>max</th>\n",
       "      <td>8811.000000</td>\n",
       "      <td>7.000000</td>\n",
       "    </tr>\n",
       "  </tbody>\n",
       "</table>\n",
       "</div>"
      ],
      "text/plain": [
       "                id  address_en_count\n",
       "count  8765.000000       8765.000000\n",
       "mean   4404.586366          1.449971\n",
       "std    2542.532548          0.935220\n",
       "min       1.000000          1.000000\n",
       "25%    2207.000000          1.000000\n",
       "50%    4403.000000          1.000000\n",
       "75%    6603.000000          1.000000\n",
       "max    8811.000000          7.000000"
      ]
     },
     "execution_count": 28,
     "metadata": {},
     "output_type": "execute_result"
    }
   ],
   "source": [
    "feature_address_en_count.describe()"
   ]
  },
  {
   "cell_type": "code",
   "execution_count": 29,
   "metadata": {},
   "outputs": [],
   "source": [
    "# counts = X.groupby('address')['id'].count().reset_index().rename(columns={'id':'count_in_address_en'})\n",
    "# X = pd.merge(X, counts, how='left', on='address')"
   ]
  },
  {
   "cell_type": "markdown",
   "metadata": {},
   "source": [
    "### Количество банкоматов стоящих по одним координатам"
   ]
  },
  {
   "cell_type": "code",
   "execution_count": 30,
   "metadata": {},
   "outputs": [],
   "source": [
    "feature_locations_count = (\n",
    "    X.merge(\n",
    "        (\n",
    "            X.groupby(['lat', 'long'])\n",
    "            .size()\n",
    "            .to_frame('locations_count')\n",
    "            .reset_index()\n",
    "        ),\n",
    "        on=['lat', 'long'],\n",
    "        how='left',\n",
    "        validate='many_to_one'\n",
    "    )\n",
    "    .loc[:, ['id', 'locations_count']]\n",
    "    .fillna(-1)\n",
    ")\n",
    "\n",
    "features['locations_count'] = feature_locations_count"
   ]
  },
  {
   "cell_type": "code",
   "execution_count": 31,
   "metadata": {},
   "outputs": [
    {
     "data": {
      "text/html": [
       "<div>\n",
       "<style scoped>\n",
       "    .dataframe tbody tr th:only-of-type {\n",
       "        vertical-align: middle;\n",
       "    }\n",
       "\n",
       "    .dataframe tbody tr th {\n",
       "        vertical-align: top;\n",
       "    }\n",
       "\n",
       "    .dataframe thead th {\n",
       "        text-align: right;\n",
       "    }\n",
       "</style>\n",
       "<table border=\"1\" class=\"dataframe\">\n",
       "  <thead>\n",
       "    <tr style=\"text-align: right;\">\n",
       "      <th></th>\n",
       "      <th>id</th>\n",
       "      <th>locations_count</th>\n",
       "    </tr>\n",
       "  </thead>\n",
       "  <tbody>\n",
       "    <tr>\n",
       "      <th>count</th>\n",
       "      <td>8765.000000</td>\n",
       "      <td>8765.000000</td>\n",
       "    </tr>\n",
       "    <tr>\n",
       "      <th>mean</th>\n",
       "      <td>4404.586366</td>\n",
       "      <td>1.673132</td>\n",
       "    </tr>\n",
       "    <tr>\n",
       "      <th>std</th>\n",
       "      <td>2542.532548</td>\n",
       "      <td>1.307586</td>\n",
       "    </tr>\n",
       "    <tr>\n",
       "      <th>min</th>\n",
       "      <td>1.000000</td>\n",
       "      <td>-1.000000</td>\n",
       "    </tr>\n",
       "    <tr>\n",
       "      <th>25%</th>\n",
       "      <td>2207.000000</td>\n",
       "      <td>1.000000</td>\n",
       "    </tr>\n",
       "    <tr>\n",
       "      <th>50%</th>\n",
       "      <td>4403.000000</td>\n",
       "      <td>1.000000</td>\n",
       "    </tr>\n",
       "    <tr>\n",
       "      <th>75%</th>\n",
       "      <td>6603.000000</td>\n",
       "      <td>2.000000</td>\n",
       "    </tr>\n",
       "    <tr>\n",
       "      <th>max</th>\n",
       "      <td>8811.000000</td>\n",
       "      <td>10.000000</td>\n",
       "    </tr>\n",
       "  </tbody>\n",
       "</table>\n",
       "</div>"
      ],
      "text/plain": [
       "                id  locations_count\n",
       "count  8765.000000      8765.000000\n",
       "mean   4404.586366         1.673132\n",
       "std    2542.532548         1.307586\n",
       "min       1.000000        -1.000000\n",
       "25%    2207.000000         1.000000\n",
       "50%    4403.000000         1.000000\n",
       "75%    6603.000000         2.000000\n",
       "max    8811.000000        10.000000"
      ]
     },
     "execution_count": 31,
     "metadata": {},
     "output_type": "execute_result"
    }
   ],
   "source": [
    "feature_locations_count.describe()"
   ]
  },
  {
   "cell_type": "code",
   "execution_count": 32,
   "metadata": {},
   "outputs": [],
   "source": [
    "# counts = X.groupby(['lat', 'long'])['id'].count().reset_index().rename(columns={'id':'count_in_cords'})\n",
    "# X = pd.merge(X, counts, how='left', on=['lat', 'long'])"
   ]
  },
  {
   "cell_type": "markdown",
   "metadata": {},
   "source": [
    "### Расстояния до ближайших банкоматов"
   ]
  },
  {
   "cell_type": "code",
   "execution_count": 33,
   "metadata": {},
   "outputs": [],
   "source": [
    "R = 6373.0 # радиус земли в километрах\n",
    "\n",
    "def distance(x,y):\n",
    "    \"\"\"\n",
    "    Параметры\n",
    "    ----------\n",
    "    x : tuple, широта и долгота первой геокоординаты \n",
    "    y : tuple, широта и долгота второй геокоординаты \n",
    "    \n",
    "    Результат\n",
    "    ----------\n",
    "    result : дистанция в километрах между двумя геокоординатами\n",
    "    \"\"\"\n",
    "    lat_a, long_a, lat_b, long_b = map(radians, [*x,*y])    \n",
    "    dlon = long_b - long_a\n",
    "    dlat = lat_b - lat_a\n",
    "    a = sin(dlat/2)**2 + cos(lat_a) * cos(lat_b) * sin(dlon/2)**2\n",
    "    c = 2 * atan2(sqrt(a), sqrt(1 - a))\n",
    "    return R * c"
   ]
  },
  {
   "cell_type": "code",
   "execution_count": 34,
   "metadata": {},
   "outputs": [],
   "source": [
    "knc = KNeighborsClassifier(metric=distance)"
   ]
  },
  {
   "cell_type": "code",
   "execution_count": 35,
   "metadata": {},
   "outputs": [],
   "source": [
    "dots = X[['lat','long']].dropna()"
   ]
  },
  {
   "cell_type": "code",
   "execution_count": 36,
   "metadata": {},
   "outputs": [
    {
     "data": {
      "text/plain": [
       "KNeighborsClassifier(algorithm='auto', leaf_size=30,\n",
       "           metric=<function distance at 0x7fd38d8e92f0>,\n",
       "           metric_params=None, n_jobs=None, n_neighbors=5, p=2,\n",
       "           weights='uniform')"
      ]
     },
     "execution_count": 36,
     "metadata": {},
     "output_type": "execute_result"
    }
   ],
   "source": [
    "knc.fit(X=dots , y=np.ones(dots.shape[0]))"
   ]
  },
  {
   "cell_type": "code",
   "execution_count": 37,
   "metadata": {},
   "outputs": [],
   "source": [
    "distances, indexes = knc.kneighbors(X=dots,n_neighbors=6,)"
   ]
  },
  {
   "cell_type": "code",
   "execution_count": 38,
   "metadata": {},
   "outputs": [],
   "source": [
    "for i in range(1,6):\n",
    "    dots['distance_%s'%i] = distances[:,i]\n",
    "    dots['indexes_%s'%i] = indexes[:,i]"
   ]
  },
  {
   "cell_type": "code",
   "execution_count": 39,
   "metadata": {},
   "outputs": [],
   "source": [
    "features['self_distances'] = (\n",
    "    pd.concat([X, dots.drop(columns=['lat', 'long'])], axis=1)\n",
    "    .loc[:, (\n",
    "        ['id'] +\n",
    "        list(dots.columns[dots.columns.str.contains('distance')]) +\n",
    "        list(dots.columns[dots.columns.str.contains('indexes')])\n",
    "    )]\n",
    ")"
   ]
  },
  {
   "cell_type": "markdown",
   "metadata": {},
   "source": [
    "### Город размещения"
   ]
  },
  {
   "cell_type": "code",
   "execution_count": 40,
   "metadata": {},
   "outputs": [],
   "source": [
    "address_rare_city = X[['id', 'address_rus']].loc[:]\n",
    "\n",
    "address_rare_city['address_ru_city'] = (\n",
    "    address_rare_city[\n",
    "        ~address_rare_city.address_rus.isnull()\n",
    "    ].address_rus.apply(\n",
    "        lambda x: x.split(',')[2]\n",
    "    )\n",
    ")\n",
    "\n",
    "rare_cities = (\n",
    "    address_rare_city['address_ru_city']\n",
    "    .value_counts()[\n",
    "        (address_rare_city['address_ru_city'].value_counts() < 20)\n",
    "    ].index\n",
    ")\n",
    "\n",
    "address_rare_city['rare_address_ru_city'] = (\n",
    "    address_rare_city['address_ru_city'].apply(\n",
    "        lambda x: 'RARE' if x in rare_cities else x\n",
    "    )\n",
    ")\n",
    "\n",
    "address_rare_city['rank_rare_address_ru_city'] = address_rare_city['rare_address_ru_city'].rank().fillna(-1)\n",
    "features['rare_address_ru_city'] = address_rare_city[['id', 'rank_rare_address_ru_city']]"
   ]
  },
  {
   "cell_type": "code",
   "execution_count": 41,
   "metadata": {},
   "outputs": [
    {
     "data": {
      "text/html": [
       "<div>\n",
       "<style scoped>\n",
       "    .dataframe tbody tr th:only-of-type {\n",
       "        vertical-align: middle;\n",
       "    }\n",
       "\n",
       "    .dataframe tbody tr th {\n",
       "        vertical-align: top;\n",
       "    }\n",
       "\n",
       "    .dataframe thead th {\n",
       "        text-align: right;\n",
       "    }\n",
       "</style>\n",
       "<table border=\"1\" class=\"dataframe\">\n",
       "  <thead>\n",
       "    <tr style=\"text-align: right;\">\n",
       "      <th></th>\n",
       "      <th>address_ru_city</th>\n",
       "      <th>count</th>\n",
       "    </tr>\n",
       "  </thead>\n",
       "  <tbody>\n",
       "    <tr>\n",
       "      <th>0</th>\n",
       "      <td>Магадан</td>\n",
       "      <td>19</td>\n",
       "    </tr>\n",
       "    <tr>\n",
       "      <th>1</th>\n",
       "      <td>Альметьевск</td>\n",
       "      <td>19</td>\n",
       "    </tr>\n",
       "    <tr>\n",
       "      <th>2</th>\n",
       "      <td>Магнитогорск</td>\n",
       "      <td>18</td>\n",
       "    </tr>\n",
       "    <tr>\n",
       "      <th>3</th>\n",
       "      <td>Орёл</td>\n",
       "      <td>17</td>\n",
       "    </tr>\n",
       "    <tr>\n",
       "      <th>4</th>\n",
       "      <td>Ленинский район</td>\n",
       "      <td>16</td>\n",
       "    </tr>\n",
       "    <tr>\n",
       "      <th>5</th>\n",
       "      <td>Биробиджан</td>\n",
       "      <td>16</td>\n",
       "    </tr>\n",
       "    <tr>\n",
       "      <th>6</th>\n",
       "      <td>Архангельск</td>\n",
       "      <td>16</td>\n",
       "    </tr>\n",
       "    <tr>\n",
       "      <th>7</th>\n",
       "      <td>Новороссийск</td>\n",
       "      <td>16</td>\n",
       "    </tr>\n",
       "    <tr>\n",
       "      <th>8</th>\n",
       "      <td>микрорайон Северный</td>\n",
       "      <td>15</td>\n",
       "    </tr>\n",
       "    <tr>\n",
       "      <th>9</th>\n",
       "      <td>Химки</td>\n",
       "      <td>15</td>\n",
       "    </tr>\n",
       "  </tbody>\n",
       "</table>\n",
       "</div>"
      ],
      "text/plain": [
       "        address_ru_city  count\n",
       "0               Магадан     19\n",
       "1           Альметьевск     19\n",
       "2          Магнитогорск     18\n",
       "3                  Орёл     17\n",
       "4       Ленинский район     16\n",
       "5            Биробиджан     16\n",
       "6           Архангельск     16\n",
       "7          Новороссийск     16\n",
       "8   микрорайон Северный     15\n",
       "9                 Химки     15"
      ]
     },
     "execution_count": 41,
     "metadata": {},
     "output_type": "execute_result"
    }
   ],
   "source": [
    "(\n",
    "    address_rare_city[address_rare_city['rare_address_ru_city'] == 'RARE']\n",
    "    .groupby('address_ru_city')\n",
    "    .size()\n",
    "    .to_frame('count')\n",
    "    .sort_values(by='count', ascending=False)\n",
    "    .reset_index()\n",
    "    .head(10)\n",
    ")"
   ]
  },
  {
   "cell_type": "code",
   "execution_count": 42,
   "metadata": {},
   "outputs": [
    {
     "data": {
      "text/html": [
       "<div>\n",
       "<style scoped>\n",
       "    .dataframe tbody tr th:only-of-type {\n",
       "        vertical-align: middle;\n",
       "    }\n",
       "\n",
       "    .dataframe tbody tr th {\n",
       "        vertical-align: top;\n",
       "    }\n",
       "\n",
       "    .dataframe thead th {\n",
       "        text-align: right;\n",
       "    }\n",
       "</style>\n",
       "<table border=\"1\" class=\"dataframe\">\n",
       "  <thead>\n",
       "    <tr style=\"text-align: right;\">\n",
       "      <th></th>\n",
       "      <th>address_ru_city</th>\n",
       "      <th>count</th>\n",
       "    </tr>\n",
       "  </thead>\n",
       "  <tbody>\n",
       "    <tr>\n",
       "      <th>0</th>\n",
       "      <td>Москва</td>\n",
       "      <td>776</td>\n",
       "    </tr>\n",
       "    <tr>\n",
       "      <th>1</th>\n",
       "      <td>Санкт-Петербург</td>\n",
       "      <td>238</td>\n",
       "    </tr>\n",
       "    <tr>\n",
       "      <th>2</th>\n",
       "      <td>Новосибирск</td>\n",
       "      <td>204</td>\n",
       "    </tr>\n",
       "    <tr>\n",
       "      <th>3</th>\n",
       "      <td>Красноярск</td>\n",
       "      <td>190</td>\n",
       "    </tr>\n",
       "    <tr>\n",
       "      <th>4</th>\n",
       "      <td>Омск</td>\n",
       "      <td>150</td>\n",
       "    </tr>\n",
       "    <tr>\n",
       "      <th>5</th>\n",
       "      <td>Владивосток</td>\n",
       "      <td>142</td>\n",
       "    </tr>\n",
       "    <tr>\n",
       "      <th>6</th>\n",
       "      <td>Томск</td>\n",
       "      <td>128</td>\n",
       "    </tr>\n",
       "    <tr>\n",
       "      <th>7</th>\n",
       "      <td>Нижний Новгород</td>\n",
       "      <td>123</td>\n",
       "    </tr>\n",
       "    <tr>\n",
       "      <th>8</th>\n",
       "      <td>Самара</td>\n",
       "      <td>121</td>\n",
       "    </tr>\n",
       "    <tr>\n",
       "      <th>9</th>\n",
       "      <td>Барнаул</td>\n",
       "      <td>120</td>\n",
       "    </tr>\n",
       "  </tbody>\n",
       "</table>\n",
       "</div>"
      ],
      "text/plain": [
       "    address_ru_city  count\n",
       "0            Москва    776\n",
       "1   Санкт-Петербург    238\n",
       "2       Новосибирск    204\n",
       "3        Красноярск    190\n",
       "4              Омск    150\n",
       "5       Владивосток    142\n",
       "6             Томск    128\n",
       "7   Нижний Новгород    123\n",
       "8            Самара    121\n",
       "9           Барнаул    120"
      ]
     },
     "execution_count": 42,
     "metadata": {},
     "output_type": "execute_result"
    }
   ],
   "source": [
    "(\n",
    "    address_rare_city[address_rare_city['rare_address_ru_city'] != 'RARE']\n",
    "    .groupby('address_ru_city')\n",
    "    .size()\n",
    "    .to_frame('count')\n",
    "    .sort_values(by='count', ascending=False)\n",
    "    .reset_index()\n",
    "    .head(10)\n",
    ")"
   ]
  },
  {
   "cell_type": "markdown",
   "metadata": {},
   "source": [
    "### Расстояния до различных географических объектов\n",
    "\n",
    "А есть ли зависимость оценки местоположения банкомата от окружающих объектов инфраструктуры?\n",
    "Например, ести банкомат стоит в большом магазине, или на вокзале?"
   ]
  },
  {
   "cell_type": "code",
   "execution_count": 43,
   "metadata": {},
   "outputs": [],
   "source": [
    "def dot_distances(dots_source, dots_target, n_distances = 6, farthest = False, geo_object_name = 'geo'):\n",
    "    \"\"\"Находим расстояния от каждой точки (lat, long) из массива dots_source\n",
    "    до каждой точки массива dots_target и возвращаем n_distances первых.\n",
    "    \n",
    "    :param dots_source: \n",
    "    :param dots_target: \n",
    "    :param n_distances: \n",
    "    :param farthest:\n",
    "    :param geo_object_name:\n",
    "    \"\"\"\n",
    "    distances = list()\n",
    "\n",
    "    source = dots_source[['lat', 'long']].iloc[:]\n",
    "    target = dots_target[['lat', 'long']].iloc[:]\n",
    "\n",
    "    # Для каждой точки вычисляем расстояния до всех геообъектов\n",
    "\n",
    "    for i, d in enumerate(list(source.values)):\n",
    "        dot_object_distances = list()\n",
    "        for p in list(target.values):\n",
    "            dot_object_distances.append(distance(d, p))\n",
    "        distances.append(sorted(dot_object_distances, reverse=farthest)[:n_distances])\n",
    "\n",
    "    # каждая строка distances содержит отсортированный массив расстояний от\n",
    "    # каждой точки до n_distances первых геообъектов.\n",
    "\n",
    "    distances_stacked = np.column_stack(distances)\n",
    "\n",
    "    # distances_stacked первая строка содержит первые ближайшие расстояния\n",
    "    # от каждой точки до геообъекта, вторая - вторые, и т.д.\n",
    "\n",
    "    for i in range(0, n_distances):\n",
    "        source['dist_{}_{}'.format(geo_object_name, i)] = distances_stacked[i]\n",
    "        \n",
    "    return source"
   ]
  },
  {
   "cell_type": "code",
   "execution_count": 44,
   "metadata": {},
   "outputs": [],
   "source": [
    "def load_overpass_data2(name, dots_source, tags):\n",
    "    \"\"\"Загружаем данные (в формате json), полученные с помощью Overpass API и\n",
    "    вычисляем расстояния от каждой точки dots_source.\n",
    "\n",
    "    :param name: название загружаемых географических объектов\n",
    "    :param dots_source: pandas.DataFrame, содержащий координаты исходных точек\n",
    "    :param tags: поля, загружаемые из словаря tags\n",
    "    \"\"\"\n",
    "    \n",
    "    osm_node_file = '../workspace/osm_node_{}.json'.format(name)\n",
    "    osm_way_file = '../workspace/osm_way_{}.json'.format(name)\n",
    "    cache_file = '../workspace/{}_distances.feather'.format(name)\n",
    "    cache = Path(cache_file)\n",
    "    \n",
    "    a = list()\n",
    "    for file in [osm_node_file, osm_way_file]:\n",
    "        if not Path(file).is_file():\n",
    "            continue\n",
    "            \n",
    "        with open(file) as f:\n",
    "            json_data = json.load(f)\n",
    "            for e in json_data['elements']:\n",
    "                if e['type'] == 'node':\n",
    "                    a.append(\n",
    "                        [e['lat'], e['lon']] +\n",
    "                        [e['tags'].get(t) for t in tags]\n",
    "                    )\n",
    "                else:\n",
    "                    a.append(\n",
    "                        [e['center']['lat'], e['center']['lon']] +\n",
    "                        [e['tags'].get(t) for t in tags]\n",
    "                    )\n",
    "\n",
    "    columns = ['lat', 'long'] + tags\n",
    "    dots_target = pd.DataFrame(a, columns=columns)\n",
    "\n",
    "    distances = pd.DataFrame()\n",
    "    if cache.is_file():\n",
    "        distances = feather.read_dataframe(cache_file)\n",
    "    else:\n",
    "        distances = dot_distances(\n",
    "            dots_source,\n",
    "            dots_target,\n",
    "            geo_object_name=name\n",
    "        )\n",
    "        distances.to_feather(cache_file)\n",
    "\n",
    "    return distances, dots_target"
   ]
  },
  {
   "cell_type": "code",
   "execution_count": 45,
   "metadata": {},
   "outputs": [],
   "source": [
    "# Оставлено как пример\n",
    "#\n",
    "# file = Path('../workspace/police_distances.feather')\n",
    "\n",
    "# if file.is_file():\n",
    "#     police_distances = feather.read_dataframe(str(file))\n",
    "# else:\n",
    "#     with open('../workspace/osm_amenity_police.json') as f:\n",
    "#         police = json.load(f)\n",
    "#     print('Полицейских участков: {}'.format(len(police['elements'])))\n",
    "\n",
    "#     a = list()\n",
    "#     for e in police['elements']:\n",
    "#         name = None\n",
    "#         if 'name' in e['tags'].keys():\n",
    "#             name = e['tags']['name']\n",
    "#         a.append([e['lat'], e['lon'], e['tags']['amenity'], name])\n",
    "        \n",
    "#     police = pd.DataFrame(a, columns=['lat', 'long', 'amenity', 'name'])\n",
    "#     police_distances = dot_distances(X, police, geo_object_name='police')\n",
    "#     police_distances.to_feather(str(file))\n",
    "    \n",
    "# X = pd.concat([X, police_distances.drop(columns=['lat', 'long'])], axis=1)"
   ]
  },
  {
   "cell_type": "markdown",
   "metadata": {},
   "source": [
    "Получить список объектов можно через Overpass API."
   ]
  },
  {
   "cell_type": "code",
   "execution_count": 46,
   "metadata": {
    "scrolled": true
   },
   "outputs": [
    {
     "name": "stdout",
     "output_type": "stream",
     "text": [
      "\n",
      "[out:json];\n",
      "area['ISO3166-1'=RU][admin_level=2];\n",
      "(\n",
      "node[shop=mall](area);\n",
      ");\n",
      "out center;\n",
      "----------------------------------------------------\n",
      "\n",
      "[out:json];\n",
      "area['ISO3166-1'=RU][admin_level=2];\n",
      "(\n",
      "way[shop=mall](area);\n",
      "relation[shop=mall](area);\n",
      ");\n",
      "out center;\n",
      "----------------------------------------------------\n",
      "\n",
      "[out:json];\n",
      "area['ISO3166-1'=RU][admin_level=2];\n",
      "(\n",
      "node[shop=supermarket](area);\n",
      ");\n",
      "out center;\n",
      "----------------------------------------------------\n",
      "\n",
      "[out:json];\n",
      "area['ISO3166-1'=RU][admin_level=2];\n",
      "(\n",
      "way[shop=supermarket](area);\n",
      "relation[shop=supermarket](area);\n",
      ");\n",
      "out center;\n",
      "----------------------------------------------------\n",
      "\n",
      "[out:json];\n",
      "area['ISO3166-1'=RU][admin_level=2];\n",
      "(\n",
      "node[shop=department_store](area);\n",
      ");\n",
      "out center;\n",
      "----------------------------------------------------\n",
      "\n",
      "[out:json];\n",
      "area['ISO3166-1'=RU][admin_level=2];\n",
      "(\n",
      "way[shop=department_store](area);\n",
      "relation[shop=department_store](area);\n",
      ");\n",
      "out center;\n",
      "----------------------------------------------------\n",
      "\n",
      "[out:json];\n",
      "area['ISO3166-1'=RU][admin_level=2];\n",
      "(\n",
      "node[shop=alcohol](area);\n",
      ");\n",
      "out center;\n",
      "----------------------------------------------------\n",
      "\n",
      "[out:json];\n",
      "area['ISO3166-1'=RU][admin_level=2];\n",
      "(\n",
      "way[shop=alcohol](area);\n",
      "relation[shop=alcohol](area);\n",
      ");\n",
      "out center;\n",
      "----------------------------------------------------\n",
      "\n",
      "[out:json];\n",
      "area['ISO3166-1'=RU][admin_level=2];\n",
      "(\n",
      "node[amenity=bank](area);\n",
      ");\n",
      "out center;\n",
      "----------------------------------------------------\n",
      "\n",
      "[out:json];\n",
      "area['ISO3166-1'=RU][admin_level=2];\n",
      "(\n",
      "way[amenity=bank](area);\n",
      "relation[amenity=bank](area);\n",
      ");\n",
      "out center;\n",
      "----------------------------------------------------\n",
      "\n",
      "[out:json];\n",
      "area['ISO3166-1'=RU][admin_level=2];\n",
      "(\n",
      "node[amenity=atm](area);\n",
      ");\n",
      "out center;\n",
      "----------------------------------------------------\n",
      "\n",
      "[out:json];\n",
      "area['ISO3166-1'=RU][admin_level=2];\n",
      "(\n",
      "way[amenity=atm](area);\n",
      "relation[amenity=atm](area);\n",
      ");\n",
      "out center;\n",
      "----------------------------------------------------\n",
      "\n",
      "[out:json];\n",
      "area['ISO3166-1'=RU][admin_level=2];\n",
      "(\n",
      "node[amenity=post_office](area);\n",
      ");\n",
      "out center;\n",
      "----------------------------------------------------\n",
      "\n",
      "[out:json];\n",
      "area['ISO3166-1'=RU][admin_level=2];\n",
      "(\n",
      "way[amenity=post_office](area);\n",
      "relation[amenity=post_office](area);\n",
      ");\n",
      "out center;\n",
      "----------------------------------------------------\n",
      "\n",
      "[out:json];\n",
      "area['ISO3166-1'=RU][admin_level=2];\n",
      "(\n",
      "node[amenity=university](area);\n",
      ");\n",
      "out center;\n",
      "----------------------------------------------------\n",
      "\n",
      "[out:json];\n",
      "area['ISO3166-1'=RU][admin_level=2];\n",
      "(\n",
      "way[amenity=university](area);\n",
      "relation[amenity=university](area);\n",
      ");\n",
      "out center;\n",
      "----------------------------------------------------\n",
      "\n",
      "[out:json];\n",
      "area['ISO3166-1'=RU][admin_level=2];\n",
      "(\n",
      "node[amenity=police](area);\n",
      ");\n",
      "out center;\n",
      "----------------------------------------------------\n",
      "\n",
      "[out:json];\n",
      "area['ISO3166-1'=RU][admin_level=2];\n",
      "(\n",
      "way[amenity=police](area);\n",
      "relation[amenity=police](area);\n",
      ");\n",
      "out center;\n",
      "----------------------------------------------------\n",
      "\n",
      "[out:json];\n",
      "area['ISO3166-1'=RU][admin_level=2];\n",
      "(\n",
      "node[place=city](area);\n",
      ");\n",
      "out center;\n",
      "----------------------------------------------------\n",
      "\n",
      "[out:json];\n",
      "area['ISO3166-1'=RU][admin_level=2];\n",
      "(\n",
      "node[place=town](area);\n",
      ");\n",
      "out center;\n",
      "----------------------------------------------------\n",
      "\n",
      "[out:json];\n",
      "area['ISO3166-1'=RU][admin_level=2];\n",
      "( node[railway=station][station=subway](area););\n",
      "out center;\n",
      "----------------------------------------------------\n",
      "\n",
      "[out:json];\n",
      "area['ISO3166-1'=RU][admin_level=2];\n",
      "(\n",
      "way[railway=station][station=subway](area);\n",
      "relation[railway=station][station=subway](area);\n",
      ");\n",
      "out center;\n",
      "----------------------------------------------------\n",
      "\n",
      "[out:json];\n",
      "area['ISO3166-1'=RU][admin_level=2];\n",
      "( node[railway=station][station!=subway](area););\n",
      "out center;\n",
      "----------------------------------------------------\n",
      "\n",
      "[out:json];\n",
      "area['ISO3166-1'=RU][admin_level=2];\n",
      "(\n",
      "way[railway=station][station!=subway](area);\n",
      "relation[railway=station][station!=subway](area);\n",
      ");\n",
      "out center;\n",
      "----------------------------------------------------\n",
      "\n",
      "[out:json];\n",
      "area['ISO3166-1'=RU][admin_level=2];\n",
      "( node[aeroway=terminal](area););\n",
      "out center;\n",
      "----------------------------------------------------\n",
      "\n",
      "[out:json];\n",
      "area['ISO3166-1'=RU][admin_level=2];\n",
      "(\n",
      "way[aeroway=terminal](area);\n",
      "relation[aeroway=terminal](area);\n",
      ");\n",
      "out center;\n",
      "----------------------------------------------------\n"
     ]
    }
   ],
   "source": [
    "%%bash\n",
    "../scripts/10-places.sh"
   ]
  },
  {
   "cell_type": "markdown",
   "metadata": {},
   "source": [
    "Результаты записываются в папке `workspace`"
   ]
  },
  {
   "cell_type": "code",
   "execution_count": 47,
   "metadata": {},
   "outputs": [
    {
     "name": "stdout",
     "output_type": "stream",
     "text": [
      "../workspace/osm_node_aeroway_terminal.json\r\n",
      "../workspace/osm_node_alcohol.json\r\n",
      "../workspace/osm_node_atm.json\r\n",
      "../workspace/osm_node_bank.json\r\n",
      "../workspace/osm_node_city.json\r\n",
      "../workspace/osm_node_department_store.json\r\n",
      "../workspace/osm_node_mall.json\r\n",
      "../workspace/osm_node_police.json\r\n",
      "../workspace/osm_node_post_office.json\r\n",
      "../workspace/osm_node_railway_station.json\r\n",
      "../workspace/osm_node_station.json\r\n",
      "../workspace/osm_node_supermarket.json\r\n",
      "../workspace/osm_node_town.json\r\n",
      "../workspace/osm_node_university.json\r\n",
      "../workspace/osm_way_aeroway_terminal.json\r\n",
      "../workspace/osm_way_alcohol.json\r\n",
      "../workspace/osm_way_atm.json\r\n",
      "../workspace/osm_way_bank.json\r\n",
      "../workspace/osm_way_department_store.json\r\n",
      "../workspace/osm_way_mall.json\r\n",
      "../workspace/osm_way_police.json\r\n",
      "../workspace/osm_way_post_office.json\r\n",
      "../workspace/osm_way_railway_station.json\r\n",
      "../workspace/osm_way_station.json\r\n",
      "../workspace/osm_way_supermarket.json\r\n",
      "../workspace/osm_way_university.json\r\n"
     ]
    }
   ],
   "source": [
    "%ls ../workspace/osm*"
   ]
  },
  {
   "cell_type": "markdown",
   "metadata": {},
   "source": [
    "Там же находятся файлы с уже вычисленными расстояниями `*.feather`"
   ]
  },
  {
   "cell_type": "code",
   "execution_count": 48,
   "metadata": {},
   "outputs": [
    {
     "name": "stdout",
     "output_type": "stream",
     "text": [
      "../workspace/aeroway_terminal_distances.feather\r\n",
      "../workspace/alcohol_distances.feather\r\n",
      "../workspace/atm_distances.feather\r\n",
      "../workspace/atms_in_the_same_location.feather\r\n",
      "../workspace/atms_in_the_same_location_one_col.feather\r\n",
      "../workspace/bank_distances.feather\r\n",
      "../workspace/city_distances.feather\r\n",
      "../workspace/department_store_distances.feather\r\n",
      "../workspace/distances_targets.feather\r\n",
      "../workspace/mall_distances.feather\r\n",
      "../workspace/police_distances.feather\r\n",
      "../workspace/post_office_distances.feather\r\n",
      "../workspace/railway_station_distances.feather\r\n",
      "../workspace/station_distances.feather\r\n",
      "../workspace/supermarket_distances.feather\r\n",
      "../workspace/town_distances.feather\r\n",
      "../workspace/university_distances.feather\r\n"
     ]
    }
   ],
   "source": [
    "%ls ../workspace/*.feather"
   ]
  },
  {
   "cell_type": "code",
   "execution_count": 49,
   "metadata": {},
   "outputs": [
    {
     "name": "stderr",
     "output_type": "stream",
     "text": [
      "100%|██████████| 14/14 [00:01<00:00,  8.57it/s]\n"
     ]
    },
    {
     "data": {
      "text/plain": [
       "dict_keys(['police', 'bank', 'atm', 'post_office', 'university', 'city', 'town', 'mall', 'supermarket', 'department_store', 'alcohol', 'station', 'railway_station', 'aeroway_terminal'])"
      ]
     },
     "execution_count": 49,
     "metadata": {},
     "output_type": "execute_result"
    }
   ],
   "source": [
    "names = [\n",
    "    'police', 'bank', 'atm', 'post_office', 'university', 'city', 'town',\n",
    "    'mall', 'supermarket', 'department_store', 'alcohol', 'station', 'railway_station',\n",
    "    'aeroway_terminal'\n",
    "]\n",
    "tags = ['name', 'amenity', 'atm', 'population']\n",
    "geo_distances = dict()\n",
    "geo_data = dict()\n",
    "for name in tqdm(names):\n",
    "    distances, overpass_data = load_overpass_data2(name, X, tags)\n",
    "    distances = distances.fillna(-1)\n",
    "    geo_distances[name] = distances\n",
    "    geo_data[name] = overpass_data\n",
    "\n",
    "geo_distances.keys()"
   ]
  },
  {
   "cell_type": "markdown",
   "metadata": {},
   "source": [
    "Добавляем среднее расстояние до объектов и присоединяем к `X`"
   ]
  },
  {
   "cell_type": "code",
   "execution_count": 50,
   "metadata": {},
   "outputs": [],
   "source": [
    "for d in geo_distances.keys():\n",
    "    dist_columns = geo_distances[d].columns.str.contains('dist')\n",
    "    mean_column = 'dist_{}_mean'.format(d)\n",
    "    min_column = 'dist_{}_min'.format(d)\n",
    "    max_column = 'dist_{}_max'.format(d)\n",
    "    std_column = 'dist_{}_std'.format(d)\n",
    "    \n",
    "    geo_distances[d][mean_column] = geo_distances[d].iloc[:,dist_columns].mean(axis=1)\n",
    "    geo_distances[d][min_column] = geo_distances[d].iloc[:,dist_columns].min(axis=1)\n",
    "    geo_distances[d][max_column] = geo_distances[d].iloc[:,dist_columns].max(axis=1)\n",
    "    geo_distances[d][std_column] = geo_distances[d].iloc[:,dist_columns].std(axis=1)\n",
    "    \n",
    "#     X = pd.concat([X, geo_distances[d].drop(columns=['lat', 'long'])], axis=1)"
   ]
  },
  {
   "cell_type": "code",
   "execution_count": 51,
   "metadata": {},
   "outputs": [],
   "source": [
    "for d in geo_distances.keys():\n",
    "    features['distances_%s' % d] = (\n",
    "        pd.concat([X, geo_distances[d].drop(columns=['lat', 'long'])], axis=1)\n",
    "        .loc[:, (\n",
    "            ['id'] +\n",
    "            list(\n",
    "                geo_distances[d].columns[\n",
    "                    geo_distances[d].columns.str.contains('dist')\n",
    "                ]\n",
    "            )\n",
    "        )]\n",
    "    )"
   ]
  },
  {
   "cell_type": "markdown",
   "metadata": {},
   "source": [
    "### Расстояние от каждого банкомата до  всех других"
   ]
  },
  {
   "cell_type": "code",
   "execution_count": 52,
   "metadata": {},
   "outputs": [
    {
     "name": "stdout",
     "output_type": "stream",
     "text": [
      "-rw-r--r-- 1 axl axl 2,0M Jan  4 00:10 ../workspace/distances_targets.feather\r\n"
     ]
    }
   ],
   "source": [
    "%ls -lha ../workspace/distances_targets.feather"
   ]
  },
  {
   "cell_type": "code",
   "execution_count": 53,
   "metadata": {},
   "outputs": [],
   "source": [
    "def distance_target(dots):\n",
    "    \"\"\"Находми расстояния до ближайших банкоматов, их target и atm_group.\n",
    "    \n",
    "    :param dots: входные данные\n",
    "    \"\"\"\n",
    "    distances = list()\n",
    "    targets = list()\n",
    "    atm_groups = list()\n",
    "\n",
    "    cache_file = '../workspace/distances_targets.feather'\n",
    "    cache = Path(cache_file)\n",
    "    \n",
    "    source = dots[['lat', 'long']].iloc[:]\n",
    "    target = dots[['lat', 'long']].iloc[:]\n",
    "\n",
    "    if cache.is_file():\n",
    "        return feather.read_dataframe(cache_file)\n",
    "    \n",
    "    for i, d in enumerate(list(source.values)):\n",
    "        dot_object_distances = list()\n",
    "\n",
    "        for p in list(target.values):\n",
    "            dot_object_distances.append(distance(d, p))\n",
    "\n",
    "        d1 = pd.DataFrame(dot_object_distances, index=target.index, columns=['dist'])\n",
    "        d1 = d1.sort_values(by=['dist']).iloc[1:10, :]\n",
    "        d1 = d1.join(X, how='left').loc[:, ['dist', 'target', 'atm_group']]\n",
    "\n",
    "        distances.append(list(d1['dist'].values))\n",
    "        targets.append(list(d1['target'].values))\n",
    "        atm_groups.append(list(d1['atm_group'].values))\n",
    "\n",
    "    distances_stacked = np.column_stack(distances)\n",
    "    targets_stacked = np.column_stack(targets)\n",
    "    atm_groups_stacked = np.column_stack(atm_groups)\n",
    "\n",
    "    for i in range(0, 9):\n",
    "        source['dist_{}_{}'.format('nearest', i)] = distances_stacked[i]\n",
    "        source['targ_{}_{}'.format('nearest', i)] = targets_stacked[i]\n",
    "        source['atmg_{}_{}'.format('nearest', i)] = atm_groups_stacked[i]\n",
    "    \n",
    "    result = pd.concat([dots[['lat', 'long']], source.drop(columns=['lat', 'long'])], axis=1)\n",
    "    result.to_feather(cache_file)\n",
    "    return result"
   ]
  },
  {
   "cell_type": "code",
   "execution_count": 54,
   "metadata": {},
   "outputs": [],
   "source": [
    "nearest_atms = distance_target(X)\n",
    "\n",
    "# С этими признаками модель очень сильно прееобучается. При обучении результат\n",
    "# 0.42, на public 0.46\n",
    "\n",
    "# features['nearest_distance_target'] = (\n",
    "#     pd.concat([X, nearest_atms.drop(columns=['lat', 'long'])], axis=1)\n",
    "#     .loc[:, (\n",
    "#         ['id'] +\n",
    "#         list(\n",
    "#             nearest_atms.columns[\n",
    "#                 nearest_atms.columns.str.contains('nearest')\n",
    "#             ]\n",
    "#         )\n",
    "#     )]\n",
    "# )"
   ]
  },
  {
   "cell_type": "markdown",
   "metadata": {},
   "source": [
    "### Банкоматы в одном и том же мести (в радиусе 10 метров)"
   ]
  },
  {
   "cell_type": "code",
   "execution_count": 55,
   "metadata": {},
   "outputs": [
    {
     "name": "stdout",
     "output_type": "stream",
     "text": [
      "-rw-r--r-- 1 axl axl 4,2M Jan  4 16:44 ../workspace/atms_in_the_same_location.feather\r\n"
     ]
    }
   ],
   "source": [
    "%ls -lha ../workspace/atms_in_the_same_location.feather\n",
    "# %rm ../workspace/atms_in_the_same_location.feather"
   ]
  },
  {
   "cell_type": "code",
   "execution_count": 56,
   "metadata": {},
   "outputs": [],
   "source": [
    "def atms_in_the_same_location(data):\n",
    "    \"\"\"Банкоматы, стоящие в одном месте (радиус 10 метров).\n",
    "    \n",
    "    Стоящие рядом банкоматы кодируются отдельным столбцом со значениями\n",
    "    \"True\" в соответствующих строках.\n",
    "    \"\"\"\n",
    "    cache_file = '../workspace/atms_in_the_same_location.feather'\n",
    "    cache = Path(cache_file)\n",
    "\n",
    "    out = data[['id']].iloc[:]\n",
    "    source = data[['lat', 'long']].iloc[:]\n",
    "    target = data[['lat', 'long']].iloc[:]\n",
    "\n",
    "    if cache.is_file():\n",
    "        return feather.read_dataframe(cache_file)\n",
    "\n",
    "    for i, d in tqdm(enumerate(list(source.values)), total=source.shape[0]):\n",
    "        dot_object_distances = list()\n",
    "\n",
    "        for p in list(target.values):\n",
    "            dot_object_distances.append(distance(d, p))\n",
    "\n",
    "        d1 = pd.DataFrame(\n",
    "            dot_object_distances,\n",
    "            index=target.index,\n",
    "            columns=['dist']\n",
    "        )\n",
    "        d1 = d1[d1['dist'] < 0.01]\n",
    "        d1 = d1.join(out, how='left').loc[:, ['id']]\n",
    "        if d1.shape[0] > 1:\n",
    "            location = 'same_loc_%s' % i\n",
    "            out.at[out['id'].isin(d1['id']), location] = True\n",
    "            out[location] = out[location].fillna(False)\n",
    "\n",
    "    out.to_feather(cache_file)\n",
    "    return out"
   ]
  },
  {
   "cell_type": "code",
   "execution_count": 57,
   "metadata": {},
   "outputs": [],
   "source": [
    "atms_location = atms_in_the_same_location(X)\n",
    "features['atms_in_the_same_location'] = atms_location"
   ]
  },
  {
   "cell_type": "code",
   "execution_count": 58,
   "metadata": {},
   "outputs": [
    {
     "data": {
      "text/plain": [
       "(8765, 3620)"
      ]
     },
     "execution_count": 58,
     "metadata": {},
     "output_type": "execute_result"
    }
   ],
   "source": [
    "features['atms_in_the_same_location'].shape"
   ]
  },
  {
   "cell_type": "markdown",
   "metadata": {},
   "source": [
    "### Средняя оценка места размещения банкоматов\n",
    "\n",
    "В радиусе 10 метров."
   ]
  },
  {
   "cell_type": "code",
   "execution_count": 59,
   "metadata": {},
   "outputs": [
    {
     "name": "stdout",
     "output_type": "stream",
     "text": [
      "-rw-r--r-- 1 axl axl 276K Jan  4 17:30 ../workspace/atms_in_the_same_location_one_col.feather\r\n"
     ]
    }
   ],
   "source": [
    "%ls -lha ../workspace/atms_in_the_same_location_one_col.feather\n",
    "# %rm ../workspace/atms_in_the_same_location_one_col.feather"
   ]
  },
  {
   "cell_type": "code",
   "execution_count": 60,
   "metadata": {},
   "outputs": [],
   "source": [
    "def atms_in_the_same_location2(data):\n",
    "    \"\"\"Находим банкоматы, стоящие в одном месте и вычисляем среднюю оценку для них.\"\"\"\n",
    "    cache_file = '../workspace/atms_in_the_same_location_one_col.feather'\n",
    "    cache = Path(cache_file)\n",
    "\n",
    "    out = data[['id', 'target']].iloc[:]\n",
    "    source = data[['lat', 'long']].iloc[:]\n",
    "    target = data[['lat', 'long']].iloc[:]\n",
    "    location_column = 'same_loc'\n",
    "    target_mean_column = 'target_mean'\n",
    "    \n",
    "    if cache.is_file():\n",
    "        return feather.read_dataframe(cache_file)\n",
    "\n",
    "    for i, d in tqdm(enumerate(list(source.values)), total=source.shape[0]):\n",
    "        dot_object_distances = list()\n",
    "\n",
    "        for p in list(target.values):\n",
    "            dot_object_distances.append(distance(d, p))\n",
    "\n",
    "        d1 = pd.DataFrame(\n",
    "            dot_object_distances,\n",
    "            index=target.index,\n",
    "            columns=['dist']\n",
    "        )\n",
    "        d1 = d1[d1['dist'] < 0.01]\n",
    "        d1 = d1.join(out, how='left').loc[:, ['id', 'target']]\n",
    "        if d1.shape[0] > 1:\n",
    "            out.at[out['id'].isin(d1['id']), location_column] = i\n",
    "            out.at[out['id'].isin(d1['id']), target_mean_column] = d1['target'].mean()\n",
    "\n",
    "    out[location_column] = out[location_column].fillna(-1)\n",
    "    out[target_mean_column] = out[target_mean_column].fillna(-1)\n",
    "    out.to_feather(cache_file)\n",
    "    return out"
   ]
  },
  {
   "cell_type": "code",
   "execution_count": 61,
   "metadata": {},
   "outputs": [],
   "source": [
    "atms_location_col = atms_in_the_same_location2(X)\n",
    "features['atms_in_the_same_location2'] = atms_location_col[['id', 'same_loc', 'target_mean']]"
   ]
  },
  {
   "cell_type": "code",
   "execution_count": 62,
   "metadata": {},
   "outputs": [
    {
     "data": {
      "text/html": [
       "<div>\n",
       "<style scoped>\n",
       "    .dataframe tbody tr th:only-of-type {\n",
       "        vertical-align: middle;\n",
       "    }\n",
       "\n",
       "    .dataframe tbody tr th {\n",
       "        vertical-align: top;\n",
       "    }\n",
       "\n",
       "    .dataframe thead th {\n",
       "        text-align: right;\n",
       "    }\n",
       "</style>\n",
       "<table border=\"1\" class=\"dataframe\">\n",
       "  <thead>\n",
       "    <tr style=\"text-align: right;\">\n",
       "      <th></th>\n",
       "      <th>id</th>\n",
       "      <th>same_loc</th>\n",
       "      <th>target_mean</th>\n",
       "    </tr>\n",
       "  </thead>\n",
       "  <tbody>\n",
       "    <tr>\n",
       "      <th>count</th>\n",
       "      <td>8765.000000</td>\n",
       "      <td>8765.000000</td>\n",
       "      <td>8765.000000</td>\n",
       "    </tr>\n",
       "    <tr>\n",
       "      <th>mean</th>\n",
       "      <td>4404.586366</td>\n",
       "      <td>2223.245636</td>\n",
       "      <td>-0.646282</td>\n",
       "    </tr>\n",
       "    <tr>\n",
       "      <th>std</th>\n",
       "      <td>2542.532548</td>\n",
       "      <td>3089.170838</td>\n",
       "      <td>0.486608</td>\n",
       "    </tr>\n",
       "    <tr>\n",
       "      <th>min</th>\n",
       "      <td>1.000000</td>\n",
       "      <td>-1.000000</td>\n",
       "      <td>-1.000000</td>\n",
       "    </tr>\n",
       "    <tr>\n",
       "      <th>25%</th>\n",
       "      <td>2207.000000</td>\n",
       "      <td>-1.000000</td>\n",
       "      <td>-1.000000</td>\n",
       "    </tr>\n",
       "    <tr>\n",
       "      <th>50%</th>\n",
       "      <td>4403.000000</td>\n",
       "      <td>-1.000000</td>\n",
       "      <td>-1.000000</td>\n",
       "    </tr>\n",
       "    <tr>\n",
       "      <th>75%</th>\n",
       "      <td>6603.000000</td>\n",
       "      <td>4790.000000</td>\n",
       "      <td>-0.031505</td>\n",
       "    </tr>\n",
       "    <tr>\n",
       "      <th>max</th>\n",
       "      <td>8811.000000</td>\n",
       "      <td>8763.000000</td>\n",
       "      <td>0.218608</td>\n",
       "    </tr>\n",
       "  </tbody>\n",
       "</table>\n",
       "</div>"
      ],
      "text/plain": [
       "                id     same_loc  target_mean\n",
       "count  8765.000000  8765.000000  8765.000000\n",
       "mean   4404.586366  2223.245636    -0.646282\n",
       "std    2542.532548  3089.170838     0.486608\n",
       "min       1.000000    -1.000000    -1.000000\n",
       "25%    2207.000000    -1.000000    -1.000000\n",
       "50%    4403.000000    -1.000000    -1.000000\n",
       "75%    6603.000000  4790.000000    -0.031505\n",
       "max    8811.000000  8763.000000     0.218608"
      ]
     },
     "execution_count": 62,
     "metadata": {},
     "output_type": "execute_result"
    }
   ],
   "source": [
    "features['atms_in_the_same_location2'].describe()"
   ]
  },
  {
   "cell_type": "markdown",
   "metadata": {},
   "source": [
    "### Адреса точек из OSM"
   ]
  },
  {
   "cell_type": "code",
   "execution_count": 63,
   "metadata": {},
   "outputs": [],
   "source": [
    "def load_osm_reverse_addresses():\n",
    "    osm_reverse_address_file = '../workspace/reverce_addresses.json'\n",
    "    addresses = list()\n",
    "    \n",
    "    with open(osm_reverse_address_file) as f:\n",
    "        json_data = json.load(f)\n",
    "\n",
    "    for k in json_data.keys():\n",
    "        e = json_data[k]\n",
    "        a = e.get('address')\n",
    "        city = a.get('city')\n",
    "        if city is None:\n",
    "            city = a.get('town')\n",
    "        if city is None:\n",
    "            city = a.get('village')\n",
    "        if city is None:\n",
    "            city = a.get('hamlet')\n",
    "        if city is None:\n",
    "            city = a.get('suburb')\n",
    "        if city is None:\n",
    "            city = a.get('county')\n",
    "        addresses.append([\n",
    "            e.get('record_id'),\n",
    "            e.get('category'),\n",
    "            e.get('type'),\n",
    "            e.get('place_rank'),\n",
    "            a.get('house_number'),\n",
    "            a.get('road'),\n",
    "            a.get('suburb'),\n",
    "            city,\n",
    "            a.get('county'),\n",
    "            a.get('state'),\n",
    "        ])\n",
    "\n",
    "    columns = ['record_id', 'category', 'type', 'place_rank', \n",
    "               'house_number', 'road', 'suburb', 'city', 'county', 'state']\n",
    "    reverce_addresses = pd.DataFrame(addresses, columns=columns)\n",
    "    \n",
    "    return json_data, reverce_addresses"
   ]
  },
  {
   "cell_type": "code",
   "execution_count": 64,
   "metadata": {},
   "outputs": [],
   "source": [
    "json_data, reverce_addresses = load_osm_reverse_addresses()\n",
    "reverce_addresses.at[reverce_addresses['state'] == 'ЦФО', 'city'] = 'Москва'\n",
    "reverce_addresses.at[reverce_addresses['state'] == 'Санкт-Петербург', 'city'] = 'Санкт-Петербург'"
   ]
  },
  {
   "cell_type": "code",
   "execution_count": 65,
   "metadata": {},
   "outputs": [
    {
     "data": {
      "text/plain": [
       "(8345, 10)"
      ]
     },
     "execution_count": 65,
     "metadata": {},
     "output_type": "execute_result"
    }
   ],
   "source": [
    "reverce_addresses.shape"
   ]
  },
  {
   "cell_type": "code",
   "execution_count": 66,
   "metadata": {},
   "outputs": [
    {
     "data": {
      "text/html": [
       "<div>\n",
       "<style scoped>\n",
       "    .dataframe tbody tr th:only-of-type {\n",
       "        vertical-align: middle;\n",
       "    }\n",
       "\n",
       "    .dataframe tbody tr th {\n",
       "        vertical-align: top;\n",
       "    }\n",
       "\n",
       "    .dataframe thead th {\n",
       "        text-align: right;\n",
       "    }\n",
       "</style>\n",
       "<table border=\"1\" class=\"dataframe\">\n",
       "  <thead>\n",
       "    <tr style=\"text-align: right;\">\n",
       "      <th></th>\n",
       "      <th>record_id</th>\n",
       "      <th>category</th>\n",
       "      <th>type</th>\n",
       "      <th>place_rank</th>\n",
       "      <th>house_number</th>\n",
       "      <th>road</th>\n",
       "      <th>suburb</th>\n",
       "      <th>city</th>\n",
       "      <th>county</th>\n",
       "      <th>state</th>\n",
       "    </tr>\n",
       "  </thead>\n",
       "  <tbody>\n",
       "    <tr>\n",
       "      <th>count</th>\n",
       "      <td>8345.000000</td>\n",
       "      <td>8345</td>\n",
       "      <td>8345</td>\n",
       "      <td>8345</td>\n",
       "      <td>7047</td>\n",
       "      <td>7937</td>\n",
       "      <td>4680</td>\n",
       "      <td>8345</td>\n",
       "      <td>7161</td>\n",
       "      <td>8345</td>\n",
       "    </tr>\n",
       "    <tr>\n",
       "      <th>unique</th>\n",
       "      <td>NaN</td>\n",
       "      <td>12</td>\n",
       "      <td>134</td>\n",
       "      <td>8</td>\n",
       "      <td>934</td>\n",
       "      <td>2237</td>\n",
       "      <td>966</td>\n",
       "      <td>1016</td>\n",
       "      <td>801</td>\n",
       "      <td>81</td>\n",
       "    </tr>\n",
       "    <tr>\n",
       "      <th>top</th>\n",
       "      <td>NaN</td>\n",
       "      <td>building</td>\n",
       "      <td>yes</td>\n",
       "      <td>30</td>\n",
       "      <td>1</td>\n",
       "      <td>улица Ленина</td>\n",
       "      <td>Центр</td>\n",
       "      <td>Москва</td>\n",
       "      <td>городской округ Красноярск</td>\n",
       "      <td>ЦФО</td>\n",
       "    </tr>\n",
       "    <tr>\n",
       "      <th>freq</th>\n",
       "      <td>NaN</td>\n",
       "      <td>4939</td>\n",
       "      <td>4961</td>\n",
       "      <td>7731</td>\n",
       "      <td>257</td>\n",
       "      <td>338</td>\n",
       "      <td>111</td>\n",
       "      <td>832</td>\n",
       "      <td>229</td>\n",
       "      <td>832</td>\n",
       "    </tr>\n",
       "    <tr>\n",
       "      <th>mean</th>\n",
       "      <td>4412.909227</td>\n",
       "      <td>NaN</td>\n",
       "      <td>NaN</td>\n",
       "      <td>NaN</td>\n",
       "      <td>NaN</td>\n",
       "      <td>NaN</td>\n",
       "      <td>NaN</td>\n",
       "      <td>NaN</td>\n",
       "      <td>NaN</td>\n",
       "      <td>NaN</td>\n",
       "    </tr>\n",
       "    <tr>\n",
       "      <th>std</th>\n",
       "      <td>2542.997777</td>\n",
       "      <td>NaN</td>\n",
       "      <td>NaN</td>\n",
       "      <td>NaN</td>\n",
       "      <td>NaN</td>\n",
       "      <td>NaN</td>\n",
       "      <td>NaN</td>\n",
       "      <td>NaN</td>\n",
       "      <td>NaN</td>\n",
       "      <td>NaN</td>\n",
       "    </tr>\n",
       "    <tr>\n",
       "      <th>min</th>\n",
       "      <td>1.000000</td>\n",
       "      <td>NaN</td>\n",
       "      <td>NaN</td>\n",
       "      <td>NaN</td>\n",
       "      <td>NaN</td>\n",
       "      <td>NaN</td>\n",
       "      <td>NaN</td>\n",
       "      <td>NaN</td>\n",
       "      <td>NaN</td>\n",
       "      <td>NaN</td>\n",
       "    </tr>\n",
       "    <tr>\n",
       "      <th>25%</th>\n",
       "      <td>2226.000000</td>\n",
       "      <td>NaN</td>\n",
       "      <td>NaN</td>\n",
       "      <td>NaN</td>\n",
       "      <td>NaN</td>\n",
       "      <td>NaN</td>\n",
       "      <td>NaN</td>\n",
       "      <td>NaN</td>\n",
       "      <td>NaN</td>\n",
       "      <td>NaN</td>\n",
       "    </tr>\n",
       "    <tr>\n",
       "      <th>50%</th>\n",
       "      <td>4401.000000</td>\n",
       "      <td>NaN</td>\n",
       "      <td>NaN</td>\n",
       "      <td>NaN</td>\n",
       "      <td>NaN</td>\n",
       "      <td>NaN</td>\n",
       "      <td>NaN</td>\n",
       "      <td>NaN</td>\n",
       "      <td>NaN</td>\n",
       "      <td>NaN</td>\n",
       "    </tr>\n",
       "    <tr>\n",
       "      <th>75%</th>\n",
       "      <td>6605.000000</td>\n",
       "      <td>NaN</td>\n",
       "      <td>NaN</td>\n",
       "      <td>NaN</td>\n",
       "      <td>NaN</td>\n",
       "      <td>NaN</td>\n",
       "      <td>NaN</td>\n",
       "      <td>NaN</td>\n",
       "      <td>NaN</td>\n",
       "      <td>NaN</td>\n",
       "    </tr>\n",
       "    <tr>\n",
       "      <th>max</th>\n",
       "      <td>8811.000000</td>\n",
       "      <td>NaN</td>\n",
       "      <td>NaN</td>\n",
       "      <td>NaN</td>\n",
       "      <td>NaN</td>\n",
       "      <td>NaN</td>\n",
       "      <td>NaN</td>\n",
       "      <td>NaN</td>\n",
       "      <td>NaN</td>\n",
       "      <td>NaN</td>\n",
       "    </tr>\n",
       "  </tbody>\n",
       "</table>\n",
       "</div>"
      ],
      "text/plain": [
       "          record_id  category  type place_rank house_number          road  \\\n",
       "count   8345.000000      8345  8345       8345         7047          7937   \n",
       "unique          NaN        12   134          8          934          2237   \n",
       "top             NaN  building   yes         30            1  улица Ленина   \n",
       "freq            NaN      4939  4961       7731          257           338   \n",
       "mean    4412.909227       NaN   NaN        NaN          NaN           NaN   \n",
       "std     2542.997777       NaN   NaN        NaN          NaN           NaN   \n",
       "min        1.000000       NaN   NaN        NaN          NaN           NaN   \n",
       "25%     2226.000000       NaN   NaN        NaN          NaN           NaN   \n",
       "50%     4401.000000       NaN   NaN        NaN          NaN           NaN   \n",
       "75%     6605.000000       NaN   NaN        NaN          NaN           NaN   \n",
       "max     8811.000000       NaN   NaN        NaN          NaN           NaN   \n",
       "\n",
       "       suburb    city                      county state  \n",
       "count    4680    8345                        7161  8345  \n",
       "unique    966    1016                         801    81  \n",
       "top     Центр  Москва  городской округ Красноярск   ЦФО  \n",
       "freq      111     832                         229   832  \n",
       "mean      NaN     NaN                         NaN   NaN  \n",
       "std       NaN     NaN                         NaN   NaN  \n",
       "min       NaN     NaN                         NaN   NaN  \n",
       "25%       NaN     NaN                         NaN   NaN  \n",
       "50%       NaN     NaN                         NaN   NaN  \n",
       "75%       NaN     NaN                         NaN   NaN  \n",
       "max       NaN     NaN                         NaN   NaN  "
      ]
     },
     "execution_count": 66,
     "metadata": {},
     "output_type": "execute_result"
    }
   ],
   "source": [
    "reverce_addresses.describe(include='all')"
   ]
  },
  {
   "cell_type": "code",
   "execution_count": 67,
   "metadata": {},
   "outputs": [
    {
     "name": "stdout",
     "output_type": "stream",
     "text": [
      "В выбранном датафрейме 10 столбцов.\n",
      "Всего 4 столбцов с неполными данными.\n"
     ]
    },
    {
     "data": {
      "text/html": [
       "<div>\n",
       "<style scoped>\n",
       "    .dataframe tbody tr th:only-of-type {\n",
       "        vertical-align: middle;\n",
       "    }\n",
       "\n",
       "    .dataframe tbody tr th {\n",
       "        vertical-align: top;\n",
       "    }\n",
       "\n",
       "    .dataframe thead th {\n",
       "        text-align: right;\n",
       "    }\n",
       "</style>\n",
       "<table border=\"1\" class=\"dataframe\">\n",
       "  <thead>\n",
       "    <tr style=\"text-align: right;\">\n",
       "      <th></th>\n",
       "      <th>Missing Values</th>\n",
       "      <th>% of Total Values</th>\n",
       "    </tr>\n",
       "  </thead>\n",
       "  <tbody>\n",
       "    <tr>\n",
       "      <th>suburb</th>\n",
       "      <td>3665</td>\n",
       "      <td>43.918514</td>\n",
       "    </tr>\n",
       "    <tr>\n",
       "      <th>house_number</th>\n",
       "      <td>1298</td>\n",
       "      <td>15.554224</td>\n",
       "    </tr>\n",
       "    <tr>\n",
       "      <th>county</th>\n",
       "      <td>1184</td>\n",
       "      <td>14.188137</td>\n",
       "    </tr>\n",
       "    <tr>\n",
       "      <th>road</th>\n",
       "      <td>408</td>\n",
       "      <td>4.889155</td>\n",
       "    </tr>\n",
       "  </tbody>\n",
       "</table>\n",
       "</div>"
      ],
      "text/plain": [
       "              Missing Values  % of Total Values\n",
       "suburb                  3665          43.918514\n",
       "house_number            1298          15.554224\n",
       "county                  1184          14.188137\n",
       "road                     408           4.889155"
      ]
     },
     "execution_count": 67,
     "metadata": {},
     "output_type": "execute_result"
    }
   ],
   "source": [
    "missing_values_table(reverce_addresses)"
   ]
  },
  {
   "cell_type": "markdown",
   "metadata": {},
   "source": [
    "### Тип места OSM\n",
    "\n",
    "Для каждого адреса в OSM есть пометки `place_rank`, `category`, `type`. Первая означает [некий](https://stackoverflow.com/questions/20972355/openstreetmap-response-importance-and-place-rank-fields/20974085#20974085) \"ранг\" места, вторая и третья характеризуют место размещения"
   ]
  },
  {
   "cell_type": "code",
   "execution_count": 68,
   "metadata": {},
   "outputs": [],
   "source": [
    "feature_osm_place_type = pd.get_dummies(\n",
    "    reverce_addresses[['record_id', 'place_rank', 'category', 'type']], \n",
    "    columns=['place_rank', 'category', 'type']\n",
    ")\n",
    "\n",
    "features['osm_place_type'] = (\n",
    "    feature_osm_place_type.rename(columns={'record_id': 'id'})\n",
    ")"
   ]
  },
  {
   "cell_type": "markdown",
   "metadata": {},
   "source": [
    "### Город размещения OSM"
   ]
  },
  {
   "cell_type": "code",
   "execution_count": 69,
   "metadata": {},
   "outputs": [
    {
     "data": {
      "text/html": [
       "<div>\n",
       "<style scoped>\n",
       "    .dataframe tbody tr th:only-of-type {\n",
       "        vertical-align: middle;\n",
       "    }\n",
       "\n",
       "    .dataframe tbody tr th {\n",
       "        vertical-align: top;\n",
       "    }\n",
       "\n",
       "    .dataframe thead th {\n",
       "        text-align: right;\n",
       "    }\n",
       "</style>\n",
       "<table border=\"1\" class=\"dataframe\">\n",
       "  <thead>\n",
       "    <tr style=\"text-align: right;\">\n",
       "      <th></th>\n",
       "      <th>record_id</th>\n",
       "      <th>city</th>\n",
       "      <th>rare_city_osm</th>\n",
       "      <th>rank_rare_city_osm</th>\n",
       "    </tr>\n",
       "  </thead>\n",
       "  <tbody>\n",
       "    <tr>\n",
       "      <th>count</th>\n",
       "      <td>8345.000000</td>\n",
       "      <td>8345</td>\n",
       "      <td>8345</td>\n",
       "      <td>8345.000000</td>\n",
       "    </tr>\n",
       "    <tr>\n",
       "      <th>unique</th>\n",
       "      <td>NaN</td>\n",
       "      <td>1016</td>\n",
       "      <td>82</td>\n",
       "      <td>NaN</td>\n",
       "    </tr>\n",
       "    <tr>\n",
       "      <th>top</th>\n",
       "      <td>NaN</td>\n",
       "      <td>Москва</td>\n",
       "      <td>RARE</td>\n",
       "      <td>NaN</td>\n",
       "    </tr>\n",
       "    <tr>\n",
       "      <th>freq</th>\n",
       "      <td>NaN</td>\n",
       "      <td>832</td>\n",
       "      <td>2360</td>\n",
       "      <td>NaN</td>\n",
       "    </tr>\n",
       "    <tr>\n",
       "      <th>mean</th>\n",
       "      <td>4412.909227</td>\n",
       "      <td>NaN</td>\n",
       "      <td>NaN</td>\n",
       "      <td>4173.000000</td>\n",
       "    </tr>\n",
       "    <tr>\n",
       "      <th>std</th>\n",
       "      <td>2542.997777</td>\n",
       "      <td>NaN</td>\n",
       "      <td>NaN</td>\n",
       "      <td>2380.363721</td>\n",
       "    </tr>\n",
       "    <tr>\n",
       "      <th>min</th>\n",
       "      <td>1.000000</td>\n",
       "      <td>NaN</td>\n",
       "      <td>NaN</td>\n",
       "      <td>1180.500000</td>\n",
       "    </tr>\n",
       "    <tr>\n",
       "      <th>25%</th>\n",
       "      <td>2226.000000</td>\n",
       "      <td>NaN</td>\n",
       "      <td>NaN</td>\n",
       "      <td>1180.500000</td>\n",
       "    </tr>\n",
       "    <tr>\n",
       "      <th>50%</th>\n",
       "      <td>4401.000000</td>\n",
       "      <td>NaN</td>\n",
       "      <td>NaN</td>\n",
       "      <td>4125.000000</td>\n",
       "    </tr>\n",
       "    <tr>\n",
       "      <th>75%</th>\n",
       "      <td>6605.000000</td>\n",
       "      <td>NaN</td>\n",
       "      <td>NaN</td>\n",
       "      <td>6219.500000</td>\n",
       "    </tr>\n",
       "    <tr>\n",
       "      <th>max</th>\n",
       "      <td>8811.000000</td>\n",
       "      <td>NaN</td>\n",
       "      <td>NaN</td>\n",
       "      <td>8332.000000</td>\n",
       "    </tr>\n",
       "  </tbody>\n",
       "</table>\n",
       "</div>"
      ],
      "text/plain": [
       "          record_id    city rare_city_osm  rank_rare_city_osm\n",
       "count   8345.000000    8345          8345         8345.000000\n",
       "unique          NaN    1016            82                 NaN\n",
       "top             NaN  Москва          RARE                 NaN\n",
       "freq            NaN     832          2360                 NaN\n",
       "mean    4412.909227     NaN           NaN         4173.000000\n",
       "std     2542.997777     NaN           NaN         2380.363721\n",
       "min        1.000000     NaN           NaN         1180.500000\n",
       "25%     2226.000000     NaN           NaN         1180.500000\n",
       "50%     4401.000000     NaN           NaN         4125.000000\n",
       "75%     6605.000000     NaN           NaN         6219.500000\n",
       "max     8811.000000     NaN           NaN         8332.000000"
      ]
     },
     "execution_count": 69,
     "metadata": {},
     "output_type": "execute_result"
    }
   ],
   "source": [
    "osm_rare_city = reverce_addresses[['record_id', 'city']].loc[:]\n",
    "\n",
    "rare_cities = osm_rare_city['city'].value_counts()[osm_rare_city['city'].value_counts() < 20].index\n",
    "\n",
    "osm_rare_city['rare_city_osm'] = osm_rare_city['city'].apply(lambda x: 'RARE' if x in rare_cities else x)\n",
    "\n",
    "osm_rare_city['rank_rare_city_osm'] = osm_rare_city['rare_city_osm'].rank().fillna(-1)\n",
    "\n",
    "features['osm_rare_city'] = (\n",
    "    osm_rare_city[['record_id', 'rank_rare_city_osm']].rename(columns={'record_id': 'id'})\n",
    ")\n",
    "\n",
    "osm_rare_city.describe(include='all')"
   ]
  },
  {
   "cell_type": "code",
   "execution_count": 70,
   "metadata": {
    "scrolled": false
   },
   "outputs": [
    {
     "data": {
      "text/html": [
       "<div>\n",
       "<style scoped>\n",
       "    .dataframe tbody tr th:only-of-type {\n",
       "        vertical-align: middle;\n",
       "    }\n",
       "\n",
       "    .dataframe tbody tr th {\n",
       "        vertical-align: top;\n",
       "    }\n",
       "\n",
       "    .dataframe thead th {\n",
       "        text-align: right;\n",
       "    }\n",
       "</style>\n",
       "<table border=\"1\" class=\"dataframe\">\n",
       "  <thead>\n",
       "    <tr style=\"text-align: right;\">\n",
       "      <th></th>\n",
       "      <th>city</th>\n",
       "      <th>count</th>\n",
       "    </tr>\n",
       "  </thead>\n",
       "  <tbody>\n",
       "    <tr>\n",
       "      <th>0</th>\n",
       "      <td>Магадан</td>\n",
       "      <td>19</td>\n",
       "    </tr>\n",
       "    <tr>\n",
       "      <th>1</th>\n",
       "      <td>Магнитогорск</td>\n",
       "      <td>18</td>\n",
       "    </tr>\n",
       "    <tr>\n",
       "      <th>2</th>\n",
       "      <td>Химки</td>\n",
       "      <td>18</td>\n",
       "    </tr>\n",
       "    <tr>\n",
       "      <th>3</th>\n",
       "      <td>Биробиджан</td>\n",
       "      <td>17</td>\n",
       "    </tr>\n",
       "    <tr>\n",
       "      <th>4</th>\n",
       "      <td>Орёл</td>\n",
       "      <td>17</td>\n",
       "    </tr>\n",
       "    <tr>\n",
       "      <th>5</th>\n",
       "      <td>Красногорск</td>\n",
       "      <td>17</td>\n",
       "    </tr>\n",
       "    <tr>\n",
       "      <th>6</th>\n",
       "      <td>Новороссийск</td>\n",
       "      <td>17</td>\n",
       "    </tr>\n",
       "    <tr>\n",
       "      <th>7</th>\n",
       "      <td>Северодвинск</td>\n",
       "      <td>15</td>\n",
       "    </tr>\n",
       "    <tr>\n",
       "      <th>8</th>\n",
       "      <td>Саранск</td>\n",
       "      <td>15</td>\n",
       "    </tr>\n",
       "    <tr>\n",
       "      <th>9</th>\n",
       "      <td>Волжский</td>\n",
       "      <td>15</td>\n",
       "    </tr>\n",
       "  </tbody>\n",
       "</table>\n",
       "</div>"
      ],
      "text/plain": [
       "           city  count\n",
       "0       Магадан     19\n",
       "1  Магнитогорск     18\n",
       "2         Химки     18\n",
       "3    Биробиджан     17\n",
       "4          Орёл     17\n",
       "5   Красногорск     17\n",
       "6  Новороссийск     17\n",
       "7  Северодвинск     15\n",
       "8       Саранск     15\n",
       "9      Волжский     15"
      ]
     },
     "execution_count": 70,
     "metadata": {},
     "output_type": "execute_result"
    }
   ],
   "source": [
    "(\n",
    "    osm_rare_city[osm_rare_city['rare_city_osm'] == 'RARE']\n",
    "    .groupby('city')\n",
    "    .size()\n",
    "    .to_frame('count')\n",
    "    .sort_values(by='count', ascending=False)\n",
    "    .reset_index()\n",
    "    .head(10)\n",
    ")"
   ]
  },
  {
   "cell_type": "code",
   "execution_count": 71,
   "metadata": {},
   "outputs": [
    {
     "data": {
      "text/html": [
       "<div>\n",
       "<style scoped>\n",
       "    .dataframe tbody tr th:only-of-type {\n",
       "        vertical-align: middle;\n",
       "    }\n",
       "\n",
       "    .dataframe tbody tr th {\n",
       "        vertical-align: top;\n",
       "    }\n",
       "\n",
       "    .dataframe thead th {\n",
       "        text-align: right;\n",
       "    }\n",
       "</style>\n",
       "<table border=\"1\" class=\"dataframe\">\n",
       "  <thead>\n",
       "    <tr style=\"text-align: right;\">\n",
       "      <th></th>\n",
       "      <th>city</th>\n",
       "      <th>count</th>\n",
       "    </tr>\n",
       "  </thead>\n",
       "  <tbody>\n",
       "    <tr>\n",
       "      <th>0</th>\n",
       "      <td>Москва</td>\n",
       "      <td>832</td>\n",
       "    </tr>\n",
       "    <tr>\n",
       "      <th>1</th>\n",
       "      <td>Санкт-Петербург</td>\n",
       "      <td>263</td>\n",
       "    </tr>\n",
       "    <tr>\n",
       "      <th>2</th>\n",
       "      <td>Красноярск</td>\n",
       "      <td>229</td>\n",
       "    </tr>\n",
       "    <tr>\n",
       "      <th>3</th>\n",
       "      <td>Новосибирск</td>\n",
       "      <td>222</td>\n",
       "    </tr>\n",
       "    <tr>\n",
       "      <th>4</th>\n",
       "      <td>Омск</td>\n",
       "      <td>184</td>\n",
       "    </tr>\n",
       "    <tr>\n",
       "      <th>5</th>\n",
       "      <td>Екатеринбург</td>\n",
       "      <td>146</td>\n",
       "    </tr>\n",
       "    <tr>\n",
       "      <th>6</th>\n",
       "      <td>Владивосток</td>\n",
       "      <td>146</td>\n",
       "    </tr>\n",
       "    <tr>\n",
       "      <th>7</th>\n",
       "      <td>Томск</td>\n",
       "      <td>137</td>\n",
       "    </tr>\n",
       "    <tr>\n",
       "      <th>8</th>\n",
       "      <td>Самара</td>\n",
       "      <td>130</td>\n",
       "    </tr>\n",
       "    <tr>\n",
       "      <th>9</th>\n",
       "      <td>Нижний Новгород</td>\n",
       "      <td>130</td>\n",
       "    </tr>\n",
       "  </tbody>\n",
       "</table>\n",
       "</div>"
      ],
      "text/plain": [
       "              city  count\n",
       "0           Москва    832\n",
       "1  Санкт-Петербург    263\n",
       "2       Красноярск    229\n",
       "3      Новосибирск    222\n",
       "4             Омск    184\n",
       "5     Екатеринбург    146\n",
       "6      Владивосток    146\n",
       "7            Томск    137\n",
       "8           Самара    130\n",
       "9  Нижний Новгород    130"
      ]
     },
     "execution_count": 71,
     "metadata": {},
     "output_type": "execute_result"
    }
   ],
   "source": [
    "(\n",
    "    osm_rare_city[osm_rare_city['rare_city_osm'] != 'RARE']\n",
    "    .groupby('city')\n",
    "    .size()\n",
    "    .to_frame('count')\n",
    "    .sort_values(by='count', ascending=False)\n",
    "    .reset_index()\n",
    "    .head(10)\n",
    ")"
   ]
  },
  {
   "cell_type": "markdown",
   "metadata": {},
   "source": [
    "### Уточняем данные о банкоматах с сайта Росбанка"
   ]
  },
  {
   "cell_type": "code",
   "execution_count": 72,
   "metadata": {},
   "outputs": [
    {
     "name": "stdout",
     "output_type": "stream",
     "text": [
      "-rw-rw-r-- 1 axl axl 40M Jan  3 20:16 ../workspace/rosbank_atm.json\r\n"
     ]
    }
   ],
   "source": [
    "%ls -lha ../workspace/rosbank_atm.json\n",
    "# %rm ../workspace/rosbank_atm.json"
   ]
  },
  {
   "cell_type": "code",
   "execution_count": 73,
   "metadata": {},
   "outputs": [],
   "source": [
    "# %bash ../scripts/30-rosbank-atm.py"
   ]
  },
  {
   "cell_type": "code",
   "execution_count": 74,
   "metadata": {},
   "outputs": [],
   "source": [
    "rosbank_atm_file = '../workspace/rosbank_atm.json'\n",
    "\n",
    "rows = list()\n",
    "columns = ['region', 'city', 'bank', 'address_title', 'address_type', \n",
    "           'working_time', 'currency', 'address_metro', 'long', 'lat']\n",
    "\n",
    "if Path(rosbank_atm_file).is_file():\n",
    "    with open(rosbank_atm_file) as f:\n",
    "        rosbank_atms = json.load(f)\n",
    "        \n",
    "for atm in rosbank_atms:\n",
    "    rows.append([atm[c] for c in columns])\n",
    "\n",
    "atms = pd.DataFrame(rows, columns=columns)"
   ]
  },
  {
   "cell_type": "code",
   "execution_count": 75,
   "metadata": {},
   "outputs": [
    {
     "data": {
      "text/html": [
       "<div>\n",
       "<style scoped>\n",
       "    .dataframe tbody tr th:only-of-type {\n",
       "        vertical-align: middle;\n",
       "    }\n",
       "\n",
       "    .dataframe tbody tr th {\n",
       "        vertical-align: top;\n",
       "    }\n",
       "\n",
       "    .dataframe thead th {\n",
       "        text-align: right;\n",
       "    }\n",
       "</style>\n",
       "<table border=\"1\" class=\"dataframe\">\n",
       "  <thead>\n",
       "    <tr style=\"text-align: right;\">\n",
       "      <th></th>\n",
       "      <th>0</th>\n",
       "      <th>1</th>\n",
       "      <th>2</th>\n",
       "    </tr>\n",
       "  </thead>\n",
       "  <tbody>\n",
       "    <tr>\n",
       "      <th>region</th>\n",
       "      <td>Алтайский край</td>\n",
       "      <td>Алтайский край</td>\n",
       "      <td>Алтайский край</td>\n",
       "    </tr>\n",
       "    <tr>\n",
       "      <th>city</th>\n",
       "      <td>Барнаул</td>\n",
       "      <td>Барнаул</td>\n",
       "      <td>Барнаул</td>\n",
       "    </tr>\n",
       "    <tr>\n",
       "      <th>bank</th>\n",
       "      <td>Росбанк</td>\n",
       "      <td>Росбанк</td>\n",
       "      <td>Росбанк</td>\n",
       "    </tr>\n",
       "    <tr>\n",
       "      <th>address_title</th>\n",
       "      <td>Тракт Павловский 192А</td>\n",
       "      <td>Улица Никитина 76а</td>\n",
       "      <td></td>\n",
       "    </tr>\n",
       "    <tr>\n",
       "      <th>address_type</th>\n",
       "      <td>Гипермаркет \"Леруа Мерлен\"</td>\n",
       "      <td>отделение</td>\n",
       "      <td>ТЦ Пионер</td>\n",
       "    </tr>\n",
       "    <tr>\n",
       "      <th>working_time</th>\n",
       "      <td>Пн-Вс:08:00-22:00</td>\n",
       "      <td>Пн-Пт:09:00-20:00, Cб:10:00-17:00</td>\n",
       "      <td>Пн-Вс:08:00-02:00</td>\n",
       "    </tr>\n",
       "    <tr>\n",
       "      <th>currency</th>\n",
       "      <td>Выдача (₽)\\nЧасть операций недоступна</td>\n",
       "      <td>Выдача (₽, $, €)\\nВнесение\\nЧасть операций нед...</td>\n",
       "      <td>Выдача (₽)\\nВнесение</td>\n",
       "    </tr>\n",
       "    <tr>\n",
       "      <th>address_metro</th>\n",
       "      <td></td>\n",
       "      <td></td>\n",
       "      <td></td>\n",
       "    </tr>\n",
       "    <tr>\n",
       "      <th>long</th>\n",
       "      <td>83.632452</td>\n",
       "      <td>83.790628</td>\n",
       "      <td>83.764055</td>\n",
       "    </tr>\n",
       "    <tr>\n",
       "      <th>lat</th>\n",
       "      <td>53.350284</td>\n",
       "      <td>53.336436</td>\n",
       "      <td>53.36228</td>\n",
       "    </tr>\n",
       "  </tbody>\n",
       "</table>\n",
       "</div>"
      ],
      "text/plain": [
       "                                                   0  \\\n",
       "region                                Алтайский край   \n",
       "city                                         Барнаул   \n",
       "bank                                         Росбанк   \n",
       "address_title                  Тракт Павловский 192А   \n",
       "address_type              Гипермаркет \"Леруа Мерлен\"   \n",
       "working_time                       Пн-Вс:08:00-22:00   \n",
       "currency       Выдача (₽)\\nЧасть операций недоступна   \n",
       "address_metro                                          \n",
       "long                                       83.632452   \n",
       "lat                                        53.350284   \n",
       "\n",
       "                                                               1  \\\n",
       "region                                            Алтайский край   \n",
       "city                                                     Барнаул   \n",
       "bank                                                     Росбанк   \n",
       "address_title                                 Улица Никитина 76а   \n",
       "address_type                                           отделение   \n",
       "working_time                   Пн-Пт:09:00-20:00, Cб:10:00-17:00   \n",
       "currency       Выдача (₽, $, €)\\nВнесение\\nЧасть операций нед...   \n",
       "address_metro                                                      \n",
       "long                                                   83.790628   \n",
       "lat                                                    53.336436   \n",
       "\n",
       "                                  2  \n",
       "region               Алтайский край  \n",
       "city                        Барнаул  \n",
       "bank                        Росбанк  \n",
       "address_title                        \n",
       "address_type              ТЦ Пионер  \n",
       "working_time      Пн-Вс:08:00-02:00  \n",
       "currency       Выдача (₽)\\nВнесение  \n",
       "address_metro                        \n",
       "long                      83.764055  \n",
       "lat                        53.36228  "
      ]
     },
     "execution_count": 75,
     "metadata": {},
     "output_type": "execute_result"
    }
   ],
   "source": [
    "atms.head(3).T"
   ]
  },
  {
   "cell_type": "code",
   "execution_count": 76,
   "metadata": {},
   "outputs": [
    {
     "data": {
      "text/plain": [
       "array(['Росбанк', 'Альфабанк', 'Райффайзен-банк', 'УРАЛСИБ Банк',\n",
       "       'АК БАРС', 'Россельхозбанк', 'Газпромбанк'], dtype=object)"
      ]
     },
     "execution_count": 76,
     "metadata": {},
     "output_type": "execute_result"
    }
   ],
   "source": [
    "atms.bank.unique()"
   ]
  },
  {
   "cell_type": "code",
   "execution_count": 77,
   "metadata": {},
   "outputs": [],
   "source": [
    "atms['atm_group'] = atms['bank'].map({\n",
    "    'Росбанк': 8083,\n",
    "    'Альфабанк': 1942,\n",
    "    'Райффайзен-банк': 1,\n",
    "    'УРАЛСИБ Банк': 32,\n",
    "    'АК БАРС': 1022,\n",
    "    'Россельхозбанк': 496.5,\n",
    "    'Газпромбанк': 3185.5,\n",
    "})"
   ]
  },
  {
   "cell_type": "code",
   "execution_count": 78,
   "metadata": {},
   "outputs": [],
   "source": [
    "re_issue = re.compile(r'Выдача\\s+\\(([₽ $ € ,]+)\\)')\n",
    "re_depositing = re.compile(r'Внесение')\n",
    "re_not_supported = re.compile(r'Часть операций недоступна')\n",
    "\n",
    "atms['issue'] = atms.currency.str.extract(re_issue, expand=False)\n",
    "atms['issue_rub'] = atms.issue.str.contains('₽')\n",
    "atms['issue_eur'] = atms.issue.str.contains('€')\n",
    "atms['issue_dol'] = atms.issue.str.contains('\\$')\n",
    "\n",
    "atms['depositing'] = atms.currency.str.contains(re_depositing)\n",
    "atms['partial_supported'] = atms.currency.str.contains(re_not_supported)"
   ]
  },
  {
   "cell_type": "code",
   "execution_count": 79,
   "metadata": {},
   "outputs": [],
   "source": [
    "re_city_region = re.compile(r'^(.*)\\s+\\(.*\\)$')\n",
    "re_city_type_left = re.compile(\n",
    "    r'^(?:с\\.|пгт\\.|город|п\\.|р\\.п\\.|г\\.|п\\.г\\.т\\.|cтаница|ст-ца|пгт|ст\\.|село|пос\\.|п\\.|х\\.|поселок)\\s+(.*)$'\n",
    ")\n",
    "re_city_type_right = re.compile(\n",
    "    r'^(.*)\\s+(?:с\\.|пгт\\.|город|п\\.|р\\.п\\.|г\\.|п\\.г\\.т\\.|cтаница|ст-ца|пгт|ст\\.|село|пос\\.|п\\.|х\\.|поселок)$'\n",
    ")\n",
    "\n",
    "atms['city_clean'] = atms['city'].str.lower().str.replace(re_city_region, lambda m: m.group(1))\n",
    "atms['city_clean'] = atms['city_clean'].str.lower().str.replace(re_city_type_left, lambda m: m.group(1))\n",
    "atms['city_clean'] = atms['city_clean'].str.lower().str.replace(re_city_type_right, lambda m: m.group(1))"
   ]
  },
  {
   "cell_type": "code",
   "execution_count": 80,
   "metadata": {},
   "outputs": [],
   "source": [
    "atms['round_the_clock'] = atms.working_time.str.lower().str.contains('круглосуточно')"
   ]
  },
  {
   "cell_type": "code",
   "execution_count": 81,
   "metadata": {},
   "outputs": [
    {
     "name": "stdout",
     "output_type": "stream",
     "text": [
      "(358,)\n"
     ]
    }
   ],
   "source": [
    "atms['address_type_clean'] = atms.address_type.str.lower()\n",
    "atms['address_type_clean_cat'] = None\n",
    "\n",
    "atms.loc[\n",
    "    atms['address_type_clean'].str.lower().str.contains(\n",
    "        r'магазин|маркет|obi|media markt|торгово-|тоц|минимаркет|ашан|леруа мерлен|торговый|торгово-развлекательный|скупермаркет|центре торгового зала|т/ц|трк|тц|трц|тд |гипермаркет|супермаркет|магазин|универсам|цум|торговый центр|торгового центра|рынок|торговый дом|универмаг'\n",
    "    ),\n",
    "    ['address_type_clean', 'address_type_clean_cat']\n",
    "] = 'mall'\n",
    "\n",
    "atms.loc[\n",
    "    atms['address_type_clean'].str.lower().str.contains(\n",
    "        r'на территории|этаж'\n",
    "    ),\n",
    "    ['address_type_clean', 'address_type_clean_cat']\n",
    "] = 'inhouse'\n",
    "\n",
    "atms.loc[\n",
    "    atms['address_type_clean'].str.lower().str.contains(\n",
    "        r'колледж|институт|университет|академии|техникум|учебный центр|медколледж|учебного|академия'\n",
    "    ),\n",
    "    ['address_type_clean', 'address_type_clean_cat']\n",
    "] = 'university'\n",
    "\n",
    "atms.loc[\n",
    "    atms['address_type_clean'].str.lower().str.contains(\n",
    "        r'аптеки|больница|больницы|гбуз|травмпункта|клиники|аптека|гкб |лечебно-диагностического|перинатальный|муз|пансионата'\n",
    "    ),\n",
    "    ['address_type_clean', 'address_type_clean_cat']\n",
    "] = 'medic'\n",
    "\n",
    "atms.loc[\n",
    "    atms['address_type_clean'].str.lower().str.contains(\n",
    "        r'ооо|бизнес-центр|бц |зао |пао |оао |тк |бизнес центр|ип |торгово-офисный|бизнесцентр|компания|фирма'\n",
    "    ),\n",
    "    ['address_type_clean', 'address_type_clean_cat']\n",
    "] = 'bisenes'\n",
    "\n",
    "atms.loc[\n",
    "    atms['address_type_clean'].str.lower().str.contains(\n",
    "        r'внутри офиса|операционный офис |оо |участок продаж и обслуживания|холле банка|в офисе банка|здании банка|дополнительный офис|оперофисе|акб |фойе банка|оо №|этаже банка|д/о |до |операционного офиса|в миниофисе|миниофис|отделение|филиала|филиал|офиса банка|дополнительного офиса|в зоне обслуживания клиентов|офис банка'\n",
    "    ),\n",
    "    ['address_type_clean', 'address_type_clean_cat']\n",
    "] = 'bank'\n",
    "\n",
    "atms.loc[\n",
    "    atms['address_type_clean'].str.lower().str.contains(\n",
    "        r'вокзал|аэропорт|порт|остановка|метро'\n",
    "    ),\n",
    "    ['address_type_clean', 'address_type_clean_cat']\n",
    "] = 'transport'\n",
    "\n",
    "atms.loc[\n",
    "    atms['address_type_clean'].str.lower().str.contains(\n",
    "        r'в/ч|кпп|военная часть|войсковой части'\n",
    "    ),\n",
    "    ['address_type_clean', 'address_type_clean_cat']\n",
    "] = 'military'\n",
    "\n",
    "atms.loc[\n",
    "    atms['address_type_clean'].str.lower().str.contains(\n",
    "        r'отель|гостиница|ресторан|столовая|гостиницы|отеля|кафе|г-ца'\n",
    "    ),\n",
    "    ['address_type_clean', 'address_type_clean_cat']\n",
    "] = 'hotel'\n",
    "\n",
    "atms.loc[\n",
    "    atms['address_type_clean'].str.lower().str.contains(\n",
    "        r'пенсионный|мовд|департамент|почта|увд|администрация|налоговой службы|администрации|управление|законодательного|казначейство|управления|управа района'\n",
    "    ),\n",
    "    ['address_type_clean', 'address_type_clean_cat']\n",
    "] = 'gov'\n",
    "\n",
    "atms.loc[\n",
    "    atms['address_type_clean'].str.lower().str.contains(\n",
    "        r'тэц|заводоупр|заводоуправление|красноярсккрайгаз|энергосбыт|завод|проходная'\n",
    "    ),\n",
    "    ['address_type_clean', 'address_type_clean_cat']\n",
    "] = 'prom'\n",
    "\n",
    "atms.loc[\n",
    "    atms['address_type_clean'].str.lower().str.contains(\n",
    "        r'азс|автосалон|автоцентр|автодорога|тех. осмотра'\n",
    "    ),\n",
    "    ['address_type_clean', 'address_type_clean_cat']\n",
    "] = 'avto'\n",
    "\n",
    "print(atms['address_type_clean'].unique().shape)"
   ]
  },
  {
   "cell_type": "code",
   "execution_count": 82,
   "metadata": {},
   "outputs": [],
   "source": [
    "atms['rosbank_atms'] = True\n",
    "\n",
    "atms['long_trunk'] = atms.long.astype('float')\\\n",
    "    .apply(\n",
    "    lambda x: '{0:.6f}'.format(x)\n",
    ")\n",
    "\n",
    "atms['lat_trunk'] = atms.lat.astype('float')\\\n",
    "    .apply(\n",
    "    lambda x: '{0:.6f}'.format(x)\n",
    ")"
   ]
  },
  {
   "cell_type": "code",
   "execution_count": 83,
   "metadata": {},
   "outputs": [],
   "source": [
    "feature_rosbank_atm_info = X[['id', 'long', 'lat', 'atm_group']].loc[:]\n",
    "\n",
    "feature_rosbank_atm_info['long_trunk'] = \\\n",
    "    feature_rosbank_atm_info.long.astype('float')\\\n",
    "    .apply(lambda x: '{0:.6f}'.format(x))\n",
    "\n",
    "feature_rosbank_atm_info['lat_trunk'] = \\\n",
    "    feature_rosbank_atm_info.lat.astype('float')\\\n",
    "    .apply(lambda x: '{0:.6f}'.format(x))\n",
    "\n",
    "feature_rosbank_atm_info = feature_rosbank_atm_info[[\n",
    "    'id', 'lat_trunk', 'long_trunk', 'atm_group'\n",
    "]].merge(atms, on=['lat_trunk', 'long_trunk', 'atm_group'], how='left')"
   ]
  },
  {
   "cell_type": "markdown",
   "metadata": {},
   "source": [
    "Информация нашлась для 995 банкоматов"
   ]
  },
  {
   "cell_type": "code",
   "execution_count": 84,
   "metadata": {},
   "outputs": [
    {
     "data": {
      "text/plain": [
       "(995, 25)"
      ]
     },
     "execution_count": 84,
     "metadata": {},
     "output_type": "execute_result"
    }
   ],
   "source": [
    "feature_rosbank_atm_info[~feature_rosbank_atm_info['rosbank_atms'].isna()].shape"
   ]
  },
  {
   "cell_type": "code",
   "execution_count": 85,
   "metadata": {},
   "outputs": [],
   "source": [
    "features['feature_rosbank_atm_info'] = feature_rosbank_atm_info[[\n",
    "    'id', 'issue_rub', 'issue_eur',\n",
    "    'issue_dol', 'depositing', 'partial_supported',\n",
    "    'round_the_clock'\n",
    "]].loc[:].astype(float)"
   ]
  },
  {
   "cell_type": "code",
   "execution_count": 86,
   "metadata": {},
   "outputs": [],
   "source": [
    "features['feature_rosbank_address_type_clean'] = (\n",
    "    pd.get_dummies(\n",
    "       feature_rosbank_atm_info[['id', 'address_type_clean_cat']].loc[:].fillna('Unknown'),\n",
    "       columns=['address_type_clean_cat']\n",
    "    )\n",
    ")"
   ]
  },
  {
   "cell_type": "markdown",
   "metadata": {},
   "source": [
    "---"
   ]
  },
  {
   "cell_type": "code",
   "execution_count": 87,
   "metadata": {},
   "outputs": [
    {
     "data": {
      "text/plain": [
       "['atm_group_dummies',\n",
       " 'address_ru_count',\n",
       " 'address_en_count',\n",
       " 'locations_count',\n",
       " 'self_distances',\n",
       " 'rare_address_ru_city',\n",
       " 'distances_police',\n",
       " 'distances_bank',\n",
       " 'distances_atm',\n",
       " 'distances_post_office',\n",
       " 'distances_university',\n",
       " 'distances_city',\n",
       " 'distances_town',\n",
       " 'distances_mall',\n",
       " 'distances_supermarket',\n",
       " 'distances_department_store',\n",
       " 'distances_alcohol',\n",
       " 'distances_station',\n",
       " 'distances_railway_station',\n",
       " 'distances_aeroway_terminal',\n",
       " 'atms_in_the_same_location',\n",
       " 'atms_in_the_same_location2',\n",
       " 'osm_place_type',\n",
       " 'osm_rare_city',\n",
       " 'feature_rosbank_atm_info',\n",
       " 'feature_rosbank_address_type_clean']"
      ]
     },
     "execution_count": 87,
     "metadata": {},
     "output_type": "execute_result"
    }
   ],
   "source": [
    "list(features.keys())"
   ]
  },
  {
   "cell_type": "code",
   "execution_count": 88,
   "metadata": {},
   "outputs": [],
   "source": [
    "# features_all = features\n",
    "# features = dict()\n",
    "# features['atms_in_the_same_location2'] = features_all['atms_in_the_same_location2']"
   ]
  },
  {
   "cell_type": "code",
   "execution_count": 89,
   "metadata": {},
   "outputs": [],
   "source": [
    "X_ = X[['id', 'isTrain', 'target', 'lat', 'long']].loc[:]\n",
    "\n",
    "for f in features.keys():\n",
    "    X_ = X_.merge(features[f], on='id', how='left')"
   ]
  },
  {
   "cell_type": "code",
   "execution_count": 90,
   "metadata": {},
   "outputs": [],
   "source": [
    "Y_ = X_.loc[X_.isTrain, 'target']\n",
    "\n",
    "X_test = X_[~X_.isTrain].drop(columns=['id', 'isTrain', 'target'])\n",
    "X_ = X_[X_.isTrain].drop(columns=['id', 'isTrain', 'target'])"
   ]
  },
  {
   "cell_type": "code",
   "execution_count": 91,
   "metadata": {},
   "outputs": [],
   "source": [
    "X_train, X_valid, Y_train, Y_valid = train_test_split(X_, Y_, test_size=0.25, random_state=1, shuffle=True)"
   ]
  },
  {
   "cell_type": "code",
   "execution_count": 92,
   "metadata": {},
   "outputs": [],
   "source": [
    "gbm = lgb.LGBMRegressor(objective = 'regression',  \n",
    "                            max_depth = 3,\n",
    "                            colsample_bytre = 0.8,\n",
    "                            subsample = 0.8, \n",
    "                            learning_rate = 0.1,\n",
    "                            n_estimators = 100)"
   ]
  },
  {
   "cell_type": "code",
   "execution_count": 93,
   "metadata": {},
   "outputs": [
    {
     "name": "stdout",
     "output_type": "stream",
     "text": [
      "[1]\tvalid_0's rmse: 0.0841761\tvalid_0's l2: 0.00708562\n",
      "Training until validation scores don't improve for 5 rounds.\n",
      "[2]\tvalid_0's rmse: 0.0781298\tvalid_0's l2: 0.00610426\n",
      "[3]\tvalid_0's rmse: 0.0728756\tvalid_0's l2: 0.00531085\n",
      "[4]\tvalid_0's rmse: 0.0683159\tvalid_0's l2: 0.00466706\n",
      "[5]\tvalid_0's rmse: 0.0643654\tvalid_0's l2: 0.0041429\n",
      "[6]\tvalid_0's rmse: 0.0610059\tvalid_0's l2: 0.00372172\n",
      "[7]\tvalid_0's rmse: 0.0580779\tvalid_0's l2: 0.00337305\n",
      "[8]\tvalid_0's rmse: 0.0555965\tvalid_0's l2: 0.00309098\n",
      "[9]\tvalid_0's rmse: 0.0534985\tvalid_0's l2: 0.00286209\n",
      "[10]\tvalid_0's rmse: 0.051719\tvalid_0's l2: 0.00267486\n",
      "[11]\tvalid_0's rmse: 0.0502761\tvalid_0's l2: 0.00252769\n",
      "[12]\tvalid_0's rmse: 0.048971\tvalid_0's l2: 0.00239816\n",
      "[13]\tvalid_0's rmse: 0.0478623\tvalid_0's l2: 0.0022908\n",
      "[14]\tvalid_0's rmse: 0.0469912\tvalid_0's l2: 0.00220817\n",
      "[15]\tvalid_0's rmse: 0.046188\tvalid_0's l2: 0.00213333\n",
      "[16]\tvalid_0's rmse: 0.0455717\tvalid_0's l2: 0.00207678\n",
      "[17]\tvalid_0's rmse: 0.0450383\tvalid_0's l2: 0.00202845\n",
      "[18]\tvalid_0's rmse: 0.0446039\tvalid_0's l2: 0.00198951\n",
      "[19]\tvalid_0's rmse: 0.0442177\tvalid_0's l2: 0.00195521\n",
      "[20]\tvalid_0's rmse: 0.0438973\tvalid_0's l2: 0.00192697\n",
      "[21]\tvalid_0's rmse: 0.0436655\tvalid_0's l2: 0.00190668\n",
      "[22]\tvalid_0's rmse: 0.0434426\tvalid_0's l2: 0.00188726\n",
      "[23]\tvalid_0's rmse: 0.0432661\tvalid_0's l2: 0.00187196\n",
      "[24]\tvalid_0's rmse: 0.0430522\tvalid_0's l2: 0.00185349\n",
      "[25]\tvalid_0's rmse: 0.0429373\tvalid_0's l2: 0.00184361\n",
      "[26]\tvalid_0's rmse: 0.0428253\tvalid_0's l2: 0.00183401\n",
      "[27]\tvalid_0's rmse: 0.0426984\tvalid_0's l2: 0.00182315\n",
      "[28]\tvalid_0's rmse: 0.0425701\tvalid_0's l2: 0.00181221\n",
      "[29]\tvalid_0's rmse: 0.0424545\tvalid_0's l2: 0.00180238\n",
      "[30]\tvalid_0's rmse: 0.0423933\tvalid_0's l2: 0.00179719\n",
      "[31]\tvalid_0's rmse: 0.0423316\tvalid_0's l2: 0.00179197\n",
      "[32]\tvalid_0's rmse: 0.0422676\tvalid_0's l2: 0.00178655\n",
      "[33]\tvalid_0's rmse: 0.0421712\tvalid_0's l2: 0.00177841\n",
      "[34]\tvalid_0's rmse: 0.0421093\tvalid_0's l2: 0.00177319\n",
      "[35]\tvalid_0's rmse: 0.0420668\tvalid_0's l2: 0.00176961\n",
      "[36]\tvalid_0's rmse: 0.0420195\tvalid_0's l2: 0.00176564\n",
      "[37]\tvalid_0's rmse: 0.0419514\tvalid_0's l2: 0.00175992\n",
      "[38]\tvalid_0's rmse: 0.0419183\tvalid_0's l2: 0.00175714\n",
      "[39]\tvalid_0's rmse: 0.0418783\tvalid_0's l2: 0.00175379\n",
      "[40]\tvalid_0's rmse: 0.0418446\tvalid_0's l2: 0.00175097\n",
      "[41]\tvalid_0's rmse: 0.0417971\tvalid_0's l2: 0.001747\n",
      "[42]\tvalid_0's rmse: 0.0417622\tvalid_0's l2: 0.00174408\n",
      "[43]\tvalid_0's rmse: 0.041737\tvalid_0's l2: 0.00174198\n",
      "[44]\tvalid_0's rmse: 0.0416853\tvalid_0's l2: 0.00173767\n",
      "[45]\tvalid_0's rmse: 0.0416733\tvalid_0's l2: 0.00173666\n",
      "[46]\tvalid_0's rmse: 0.0416637\tvalid_0's l2: 0.00173586\n",
      "[47]\tvalid_0's rmse: 0.0416488\tvalid_0's l2: 0.00173463\n",
      "[48]\tvalid_0's rmse: 0.0416095\tvalid_0's l2: 0.00173135\n",
      "[49]\tvalid_0's rmse: 0.0416003\tvalid_0's l2: 0.00173059\n",
      "[50]\tvalid_0's rmse: 0.0415929\tvalid_0's l2: 0.00172997\n",
      "[51]\tvalid_0's rmse: 0.0415944\tvalid_0's l2: 0.00173009\n",
      "[52]\tvalid_0's rmse: 0.041567\tvalid_0's l2: 0.00172781\n",
      "[53]\tvalid_0's rmse: 0.0415383\tvalid_0's l2: 0.00172543\n",
      "[54]\tvalid_0's rmse: 0.0415285\tvalid_0's l2: 0.00172462\n",
      "[55]\tvalid_0's rmse: 0.0414749\tvalid_0's l2: 0.00172017\n",
      "[56]\tvalid_0's rmse: 0.0414417\tvalid_0's l2: 0.00171741\n",
      "[57]\tvalid_0's rmse: 0.0414319\tvalid_0's l2: 0.00171661\n",
      "[58]\tvalid_0's rmse: 0.0414029\tvalid_0's l2: 0.0017142\n",
      "[59]\tvalid_0's rmse: 0.0413623\tvalid_0's l2: 0.00171084\n",
      "[60]\tvalid_0's rmse: 0.0413424\tvalid_0's l2: 0.00170919\n",
      "[61]\tvalid_0's rmse: 0.0413224\tvalid_0's l2: 0.00170754\n",
      "[62]\tvalid_0's rmse: 0.04128\tvalid_0's l2: 0.00170404\n",
      "[63]\tvalid_0's rmse: 0.0412898\tvalid_0's l2: 0.00170485\n",
      "[64]\tvalid_0's rmse: 0.0412838\tvalid_0's l2: 0.00170435\n",
      "[65]\tvalid_0's rmse: 0.0412828\tvalid_0's l2: 0.00170427\n",
      "[66]\tvalid_0's rmse: 0.0412741\tvalid_0's l2: 0.00170355\n",
      "[67]\tvalid_0's rmse: 0.0412541\tvalid_0's l2: 0.0017019\n",
      "[68]\tvalid_0's rmse: 0.0412204\tvalid_0's l2: 0.00169912\n",
      "[69]\tvalid_0's rmse: 0.0411975\tvalid_0's l2: 0.00169723\n",
      "[70]\tvalid_0's rmse: 0.0411984\tvalid_0's l2: 0.00169731\n",
      "[71]\tvalid_0's rmse: 0.041196\tvalid_0's l2: 0.00169711\n",
      "[72]\tvalid_0's rmse: 0.0411865\tvalid_0's l2: 0.00169633\n",
      "[73]\tvalid_0's rmse: 0.0411853\tvalid_0's l2: 0.00169623\n",
      "[74]\tvalid_0's rmse: 0.0411592\tvalid_0's l2: 0.00169408\n",
      "[75]\tvalid_0's rmse: 0.0411433\tvalid_0's l2: 0.00169277\n",
      "[76]\tvalid_0's rmse: 0.0411506\tvalid_0's l2: 0.00169337\n",
      "[77]\tvalid_0's rmse: 0.0411297\tvalid_0's l2: 0.00169166\n",
      "[78]\tvalid_0's rmse: 0.0411046\tvalid_0's l2: 0.00168959\n",
      "[79]\tvalid_0's rmse: 0.0410889\tvalid_0's l2: 0.0016883\n",
      "[80]\tvalid_0's rmse: 0.0410976\tvalid_0's l2: 0.00168901\n",
      "[81]\tvalid_0's rmse: 0.0410814\tvalid_0's l2: 0.00168768\n",
      "[82]\tvalid_0's rmse: 0.0410789\tvalid_0's l2: 0.00168747\n",
      "[83]\tvalid_0's rmse: 0.0410861\tvalid_0's l2: 0.00168807\n",
      "[84]\tvalid_0's rmse: 0.0410605\tvalid_0's l2: 0.00168597\n",
      "[85]\tvalid_0's rmse: 0.0410524\tvalid_0's l2: 0.0016853\n",
      "[86]\tvalid_0's rmse: 0.0410386\tvalid_0's l2: 0.00168417\n",
      "[87]\tvalid_0's rmse: 0.0410258\tvalid_0's l2: 0.00168311\n",
      "[88]\tvalid_0's rmse: 0.0410255\tvalid_0's l2: 0.00168309\n",
      "[89]\tvalid_0's rmse: 0.0410325\tvalid_0's l2: 0.00168367\n",
      "[90]\tvalid_0's rmse: 0.0410191\tvalid_0's l2: 0.00168257\n",
      "[91]\tvalid_0's rmse: 0.0410189\tvalid_0's l2: 0.00168255\n",
      "[92]\tvalid_0's rmse: 0.041006\tvalid_0's l2: 0.0016815\n",
      "[93]\tvalid_0's rmse: 0.0410128\tvalid_0's l2: 0.00168205\n",
      "[94]\tvalid_0's rmse: 0.04102\tvalid_0's l2: 0.00168264\n",
      "[95]\tvalid_0's rmse: 0.0410064\tvalid_0's l2: 0.00168153\n",
      "[96]\tvalid_0's rmse: 0.0409924\tvalid_0's l2: 0.00168037\n",
      "[97]\tvalid_0's rmse: 0.040985\tvalid_0's l2: 0.00167977\n",
      "[98]\tvalid_0's rmse: 0.0409643\tvalid_0's l2: 0.00167807\n",
      "[99]\tvalid_0's rmse: 0.0409592\tvalid_0's l2: 0.00167765\n",
      "[100]\tvalid_0's rmse: 0.0409501\tvalid_0's l2: 0.00167691\n",
      "Did not meet early stopping. Best iteration is:\n",
      "[100]\tvalid_0's rmse: 0.0409501\tvalid_0's l2: 0.00167691\n"
     ]
    },
    {
     "data": {
      "text/plain": [
       "LGBMRegressor(boosting_type='gbdt', class_weight=None, colsample_bytre=0.8,\n",
       "       colsample_bytree=1.0, importance_type='split', learning_rate=0.1,\n",
       "       max_depth=3, min_child_samples=20, min_child_weight=0.001,\n",
       "       min_split_gain=0.0, n_estimators=100, n_jobs=-1, num_leaves=31,\n",
       "       objective='regression', random_state=None, reg_alpha=0.0,\n",
       "       reg_lambda=0.0, silent=True, subsample=0.8,\n",
       "       subsample_for_bin=200000, subsample_freq=0)"
      ]
     },
     "execution_count": 93,
     "metadata": {},
     "output_type": "execute_result"
    }
   ],
   "source": [
    "gbm.fit(X_train, Y_train, eval_set=[(X_valid, Y_valid)], eval_metric='rmse', early_stopping_rounds=5)"
   ]
  },
  {
   "cell_type": "code",
   "execution_count": 94,
   "metadata": {},
   "outputs": [
    {
     "data": {
      "image/png": "[encoded data removed]",
      "text/plain": [
       "<Figure size 864x720 with 1 Axes>"
      ]
     },
     "metadata": {
      "needs_background": "light"
     },
     "output_type": "display_data"
    }
   ],
   "source": [
    "fig, ax = plt.subplots(figsize=(12,10))\n",
    "lgb.plot_importance(gbm, max_num_features=50, height=0.8, ax=ax)\n",
    "ax.grid(False)\n",
    "plt.title(\"LightGBM - Feature Importance\", fontsize=15)\n",
    "plt.show()"
   ]
  },
  {
   "cell_type": "code",
   "execution_count": 95,
   "metadata": {},
   "outputs": [
    {
     "data": {
      "text/plain": [
       "0.04095012402151983"
      ]
     },
     "execution_count": 95,
     "metadata": {},
     "output_type": "execute_result"
    }
   ],
   "source": [
    "rmse(Y_valid, gbm.predict(X_valid))"
   ]
  },
  {
   "cell_type": "code",
   "execution_count": 96,
   "metadata": {},
   "outputs": [
    {
     "data": {
      "text/plain": [
       "0.09177255578240429"
      ]
     },
     "execution_count": 96,
     "metadata": {},
     "output_type": "execute_result"
    }
   ],
   "source": [
    "rmse(Y_valid, np.zeros(Y_valid.shape[0]))"
   ]
  },
  {
   "cell_type": "code",
   "execution_count": 97,
   "metadata": {},
   "outputs": [
    {
     "ename": "ValueError",
     "evalue": "Shape of passed values is (1, 2812), indices imply (1, 2504)",
     "output_type": "error",
     "traceback": [
      "\u001b[0;31m---------------------------------------------------------------------------\u001b[0m",
      "\u001b[0;31mValueError\u001b[0m                                Traceback (most recent call last)",
      "\u001b[0;32m~/Work/rosbank_happy_data_year/.venv/lib/python3.6/site-packages/pandas/core/internals.py\u001b[0m in \u001b[0;36mcreate_block_manager_from_blocks\u001b[0;34m(blocks, axes)\u001b[0m\n\u001b[1;32m   4858\u001b[0m \u001b[0;34m\u001b[0m\u001b[0m\n\u001b[0;32m-> 4859\u001b[0;31m         \u001b[0mmgr\u001b[0m \u001b[0;34m=\u001b[0m \u001b[0mBlockManager\u001b[0m\u001b[0;34m(\u001b[0m\u001b[0mblocks\u001b[0m\u001b[0;34m,\u001b[0m \u001b[0maxes\u001b[0m\u001b[0;34m)\u001b[0m\u001b[0;34m\u001b[0m\u001b[0m\n\u001b[0m\u001b[1;32m   4860\u001b[0m         \u001b[0mmgr\u001b[0m\u001b[0;34m.\u001b[0m\u001b[0m_consolidate_inplace\u001b[0m\u001b[0;34m(\u001b[0m\u001b[0;34m)\u001b[0m\u001b[0;34m\u001b[0m\u001b[0m\n",
      "\u001b[0;32m~/Work/rosbank_happy_data_year/.venv/lib/python3.6/site-packages/pandas/core/internals.py\u001b[0m in \u001b[0;36m__init__\u001b[0;34m(self, blocks, axes, do_integrity_check)\u001b[0m\n\u001b[1;32m   3281\u001b[0m         \u001b[0;32mif\u001b[0m \u001b[0mdo_integrity_check\u001b[0m\u001b[0;34m:\u001b[0m\u001b[0;34m\u001b[0m\u001b[0m\n\u001b[0;32m-> 3282\u001b[0;31m             \u001b[0mself\u001b[0m\u001b[0;34m.\u001b[0m\u001b[0m_verify_integrity\u001b[0m\u001b[0;34m(\u001b[0m\u001b[0;34m)\u001b[0m\u001b[0;34m\u001b[0m\u001b[0m\n\u001b[0m\u001b[1;32m   3283\u001b[0m \u001b[0;34m\u001b[0m\u001b[0m\n",
      "\u001b[0;32m~/Work/rosbank_happy_data_year/.venv/lib/python3.6/site-packages/pandas/core/internals.py\u001b[0m in \u001b[0;36m_verify_integrity\u001b[0;34m(self)\u001b[0m\n\u001b[1;32m   3492\u001b[0m             \u001b[0;32mif\u001b[0m \u001b[0mblock\u001b[0m\u001b[0;34m.\u001b[0m\u001b[0m_verify_integrity\u001b[0m \u001b[0;32mand\u001b[0m \u001b[0mblock\u001b[0m\u001b[0;34m.\u001b[0m\u001b[0mshape\u001b[0m\u001b[0;34m[\u001b[0m\u001b[0;36m1\u001b[0m\u001b[0;34m:\u001b[0m\u001b[0;34m]\u001b[0m \u001b[0;34m!=\u001b[0m \u001b[0mmgr_shape\u001b[0m\u001b[0;34m[\u001b[0m\u001b[0;36m1\u001b[0m\u001b[0;34m:\u001b[0m\u001b[0;34m]\u001b[0m\u001b[0;34m:\u001b[0m\u001b[0;34m\u001b[0m\u001b[0m\n\u001b[0;32m-> 3493\u001b[0;31m                 \u001b[0mconstruction_error\u001b[0m\u001b[0;34m(\u001b[0m\u001b[0mtot_items\u001b[0m\u001b[0;34m,\u001b[0m \u001b[0mblock\u001b[0m\u001b[0;34m.\u001b[0m\u001b[0mshape\u001b[0m\u001b[0;34m[\u001b[0m\u001b[0;36m1\u001b[0m\u001b[0;34m:\u001b[0m\u001b[0;34m]\u001b[0m\u001b[0;34m,\u001b[0m \u001b[0mself\u001b[0m\u001b[0;34m.\u001b[0m\u001b[0maxes\u001b[0m\u001b[0;34m)\u001b[0m\u001b[0;34m\u001b[0m\u001b[0m\n\u001b[0m\u001b[1;32m   3494\u001b[0m         \u001b[0;32mif\u001b[0m \u001b[0mlen\u001b[0m\u001b[0;34m(\u001b[0m\u001b[0mself\u001b[0m\u001b[0;34m.\u001b[0m\u001b[0mitems\u001b[0m\u001b[0;34m)\u001b[0m \u001b[0;34m!=\u001b[0m \u001b[0mtot_items\u001b[0m\u001b[0;34m:\u001b[0m\u001b[0;34m\u001b[0m\u001b[0m\n",
      "\u001b[0;32m~/Work/rosbank_happy_data_year/.venv/lib/python3.6/site-packages/pandas/core/internals.py\u001b[0m in \u001b[0;36mconstruction_error\u001b[0;34m(tot_items, block_shape, axes, e)\u001b[0m\n\u001b[1;32m   4842\u001b[0m     raise ValueError(\"Shape of passed values is {0}, indices imply {1}\".format(\n\u001b[0;32m-> 4843\u001b[0;31m         passed, implied))\n\u001b[0m\u001b[1;32m   4844\u001b[0m \u001b[0;34m\u001b[0m\u001b[0m\n",
      "\u001b[0;31mValueError\u001b[0m: Shape of passed values is (1, 2812), indices imply (1, 2504)",
      "\nDuring handling of the above exception, another exception occurred:\n",
      "\u001b[0;31mValueError\u001b[0m                                Traceback (most recent call last)",
      "\u001b[0;32m<ipython-input-97-1f47fc491c2c>\u001b[0m in \u001b[0;36m<module>\u001b[0;34m\u001b[0m\n\u001b[0;32m----> 1\u001b[0;31m \u001b[0msubmit\u001b[0m \u001b[0;34m=\u001b[0m \u001b[0mpd\u001b[0m\u001b[0;34m.\u001b[0m\u001b[0mDataFrame\u001b[0m\u001b[0;34m(\u001b[0m\u001b[0mgbm\u001b[0m\u001b[0;34m.\u001b[0m\u001b[0mpredict\u001b[0m\u001b[0;34m(\u001b[0m\u001b[0mX_test\u001b[0m\u001b[0;34m)\u001b[0m\u001b[0;34m,\u001b[0m \u001b[0mindex\u001b[0m\u001b[0;34m=\u001b[0m\u001b[0mtest\u001b[0m\u001b[0;34m.\u001b[0m\u001b[0mindex\u001b[0m\u001b[0;34m,\u001b[0m\u001b[0mcolumns\u001b[0m\u001b[0;34m=\u001b[0m\u001b[0;34m[\u001b[0m\u001b[0;34m'target'\u001b[0m\u001b[0;34m]\u001b[0m\u001b[0;34m)\u001b[0m\u001b[0;34m\u001b[0m\u001b[0m\n\u001b[0m",
      "\u001b[0;32m~/Work/rosbank_happy_data_year/.venv/lib/python3.6/site-packages/pandas/core/frame.py\u001b[0m in \u001b[0;36m__init__\u001b[0;34m(self, data, index, columns, dtype, copy)\u001b[0m\n\u001b[1;32m    377\u001b[0m             \u001b[0;32melse\u001b[0m\u001b[0;34m:\u001b[0m\u001b[0;34m\u001b[0m\u001b[0m\n\u001b[1;32m    378\u001b[0m                 mgr = self._init_ndarray(data, index, columns, dtype=dtype,\n\u001b[0;32m--> 379\u001b[0;31m                                          copy=copy)\n\u001b[0m\u001b[1;32m    380\u001b[0m         \u001b[0;32melif\u001b[0m \u001b[0misinstance\u001b[0m\u001b[0;34m(\u001b[0m\u001b[0mdata\u001b[0m\u001b[0;34m,\u001b[0m \u001b[0;34m(\u001b[0m\u001b[0mlist\u001b[0m\u001b[0;34m,\u001b[0m \u001b[0mtypes\u001b[0m\u001b[0;34m.\u001b[0m\u001b[0mGeneratorType\u001b[0m\u001b[0;34m)\u001b[0m\u001b[0;34m)\u001b[0m\u001b[0;34m:\u001b[0m\u001b[0;34m\u001b[0m\u001b[0m\n\u001b[1;32m    381\u001b[0m             \u001b[0;32mif\u001b[0m \u001b[0misinstance\u001b[0m\u001b[0;34m(\u001b[0m\u001b[0mdata\u001b[0m\u001b[0;34m,\u001b[0m \u001b[0mtypes\u001b[0m\u001b[0;34m.\u001b[0m\u001b[0mGeneratorType\u001b[0m\u001b[0;34m)\u001b[0m\u001b[0;34m:\u001b[0m\u001b[0;34m\u001b[0m\u001b[0m\n",
      "\u001b[0;32m~/Work/rosbank_happy_data_year/.venv/lib/python3.6/site-packages/pandas/core/frame.py\u001b[0m in \u001b[0;36m_init_ndarray\u001b[0;34m(self, values, index, columns, dtype, copy)\u001b[0m\n\u001b[1;32m    534\u001b[0m             \u001b[0mvalues\u001b[0m \u001b[0;34m=\u001b[0m \u001b[0mmaybe_infer_to_datetimelike\u001b[0m\u001b[0;34m(\u001b[0m\u001b[0mvalues\u001b[0m\u001b[0;34m)\u001b[0m\u001b[0;34m\u001b[0m\u001b[0m\n\u001b[1;32m    535\u001b[0m \u001b[0;34m\u001b[0m\u001b[0m\n\u001b[0;32m--> 536\u001b[0;31m         \u001b[0;32mreturn\u001b[0m \u001b[0mcreate_block_manager_from_blocks\u001b[0m\u001b[0;34m(\u001b[0m\u001b[0;34m[\u001b[0m\u001b[0mvalues\u001b[0m\u001b[0;34m]\u001b[0m\u001b[0;34m,\u001b[0m \u001b[0;34m[\u001b[0m\u001b[0mcolumns\u001b[0m\u001b[0;34m,\u001b[0m \u001b[0mindex\u001b[0m\u001b[0;34m]\u001b[0m\u001b[0;34m)\u001b[0m\u001b[0;34m\u001b[0m\u001b[0m\n\u001b[0m\u001b[1;32m    537\u001b[0m \u001b[0;34m\u001b[0m\u001b[0m\n\u001b[1;32m    538\u001b[0m     \u001b[0;34m@\u001b[0m\u001b[0mproperty\u001b[0m\u001b[0;34m\u001b[0m\u001b[0m\n",
      "\u001b[0;32m~/Work/rosbank_happy_data_year/.venv/lib/python3.6/site-packages/pandas/core/internals.py\u001b[0m in \u001b[0;36mcreate_block_manager_from_blocks\u001b[0;34m(blocks, axes)\u001b[0m\n\u001b[1;32m   4864\u001b[0m         \u001b[0mblocks\u001b[0m \u001b[0;34m=\u001b[0m \u001b[0;34m[\u001b[0m\u001b[0mgetattr\u001b[0m\u001b[0;34m(\u001b[0m\u001b[0mb\u001b[0m\u001b[0;34m,\u001b[0m \u001b[0;34m'values'\u001b[0m\u001b[0;34m,\u001b[0m \u001b[0mb\u001b[0m\u001b[0;34m)\u001b[0m \u001b[0;32mfor\u001b[0m \u001b[0mb\u001b[0m \u001b[0;32min\u001b[0m \u001b[0mblocks\u001b[0m\u001b[0;34m]\u001b[0m\u001b[0;34m\u001b[0m\u001b[0m\n\u001b[1;32m   4865\u001b[0m         \u001b[0mtot_items\u001b[0m \u001b[0;34m=\u001b[0m \u001b[0msum\u001b[0m\u001b[0;34m(\u001b[0m\u001b[0mb\u001b[0m\u001b[0;34m.\u001b[0m\u001b[0mshape\u001b[0m\u001b[0;34m[\u001b[0m\u001b[0;36m0\u001b[0m\u001b[0;34m]\u001b[0m \u001b[0;32mfor\u001b[0m \u001b[0mb\u001b[0m \u001b[0;32min\u001b[0m \u001b[0mblocks\u001b[0m\u001b[0;34m)\u001b[0m\u001b[0;34m\u001b[0m\u001b[0m\n\u001b[0;32m-> 4866\u001b[0;31m         \u001b[0mconstruction_error\u001b[0m\u001b[0;34m(\u001b[0m\u001b[0mtot_items\u001b[0m\u001b[0;34m,\u001b[0m \u001b[0mblocks\u001b[0m\u001b[0;34m[\u001b[0m\u001b[0;36m0\u001b[0m\u001b[0;34m]\u001b[0m\u001b[0;34m.\u001b[0m\u001b[0mshape\u001b[0m\u001b[0;34m[\u001b[0m\u001b[0;36m1\u001b[0m\u001b[0;34m:\u001b[0m\u001b[0;34m]\u001b[0m\u001b[0;34m,\u001b[0m \u001b[0maxes\u001b[0m\u001b[0;34m,\u001b[0m \u001b[0me\u001b[0m\u001b[0;34m)\u001b[0m\u001b[0;34m\u001b[0m\u001b[0m\n\u001b[0m\u001b[1;32m   4867\u001b[0m \u001b[0;34m\u001b[0m\u001b[0m\n\u001b[1;32m   4868\u001b[0m \u001b[0;34m\u001b[0m\u001b[0m\n",
      "\u001b[0;32m~/Work/rosbank_happy_data_year/.venv/lib/python3.6/site-packages/pandas/core/internals.py\u001b[0m in \u001b[0;36mconstruction_error\u001b[0;34m(tot_items, block_shape, axes, e)\u001b[0m\n\u001b[1;32m   4841\u001b[0m         \u001b[0;32mraise\u001b[0m \u001b[0mValueError\u001b[0m\u001b[0;34m(\u001b[0m\u001b[0;34m\"Empty data passed with indices specified.\"\u001b[0m\u001b[0;34m)\u001b[0m\u001b[0;34m\u001b[0m\u001b[0m\n\u001b[1;32m   4842\u001b[0m     raise ValueError(\"Shape of passed values is {0}, indices imply {1}\".format(\n\u001b[0;32m-> 4843\u001b[0;31m         passed, implied))\n\u001b[0m\u001b[1;32m   4844\u001b[0m \u001b[0;34m\u001b[0m\u001b[0m\n\u001b[1;32m   4845\u001b[0m \u001b[0;34m\u001b[0m\u001b[0m\n",
      "\u001b[0;31mValueError\u001b[0m: Shape of passed values is (1, 2812), indices imply (1, 2504)"
     ]
    }
   ],
   "source": [
    "submit = pd.DataFrame(gbm.predict(X_test), index=test.index,columns=['target'])"
   ]
  },
  {
   "cell_type": "code",
   "execution_count": null,
   "metadata": {},
   "outputs": [],
   "source": [
    "submit.to_csv('../workspace/submit.csv')"
   ]
  }
 ],
 "metadata": {
  "kernelspec": {
   "display_name": "Python 3",
   "language": "python",
   "name": "python3"
  },
  "language_info": {
   "codemirror_mode": {
    "name": "ipython",
    "version": 3
   },
   "file_extension": ".py",
   "mimetype": "text/x-python",
   "name": "python",
   "nbconvert_exporter": "python",
   "pygments_lexer": "ipython3",
   "version": "3.6.6"
  },
  "toc": {
   "base_numbering": 1,
   "nav_menu": {},
   "number_sections": false,
   "sideBar": false,
   "skip_h1_title": false,
   "title_cell": "Table of Contents",
   "title_sidebar": "Contents",
   "toc_cell": false,
   "toc_position": {},
   "toc_section_display": false,
   "toc_window_display": false
  }
 },
 "nbformat": 4,
 "nbformat_minor": 2
}
